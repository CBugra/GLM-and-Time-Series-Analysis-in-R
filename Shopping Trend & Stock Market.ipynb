{
  "nbformat": 4,
  "nbformat_minor": 0,
  "metadata": {
    "colab": {
      "provenance": [],
      "toc_visible": true
    },
    "kernelspec": {
      "name": "ir",
      "display_name": "R"
    },
    "language_info": {
      "name": "R"
    }
  },
  "cells": [
    {
      "cell_type": "markdown",
      "source": [
        "\n",
        "\n",
        "*   Name: Cagdas Bugra Altindal\n",
        "*   Student ID: 20014643\n",
        "*   Date: 20/12/2023\n",
        "*   About CA_2: Generalized Linear Model(GLM), Time Series Analysis, Bayesian Analytics\n",
        "\n",
        "\n",
        "\n",
        "\n",
        "\n",
        "\n",
        "\n",
        "\n"
      ],
      "metadata": {
        "id": "qH4lB-Qwoizr"
      }
    },
    {
      "cell_type": "markdown",
      "source": [
        "# PRE-PROCESSING"
      ],
      "metadata": {
        "id": "FdVMeya1qstC"
      }
    },
    {
      "cell_type": "code",
      "execution_count": 1,
      "metadata": {
        "colab": {
          "base_uri": "https://localhost:8080/",
          "height": 306
        },
        "id": "7mgQ1NlIFJ92",
        "outputId": "dd208836-aa1c-40d2-ad1b-0e3211a6fbbb"
      },
      "outputs": [
        {
          "output_type": "display_data",
          "data": {
            "text/html": [
              "<table class=\"dataframe\">\n",
              "<caption>A data.frame: 6 × 18</caption>\n",
              "<thead>\n",
              "\t<tr><th></th><th scope=col>CUSTOMER.ID</th><th scope=col>AGE</th><th scope=col>GENDER</th><th scope=col>ITEM.PURCHASED</th><th scope=col>CATEGORY</th><th scope=col>PURCHASE.AMOUNT</th><th scope=col>LOCATION</th><th scope=col>SIZE</th><th scope=col>COLOR</th><th scope=col>SEASON</th><th scope=col>REVIEW.RATE</th><th scope=col>SUBSCRIPTIONS</th><th scope=col>SHIPPING.TYPE</th><th scope=col>DISCOUNT.APPLIED</th><th scope=col>PROMO_CODE_USED</th><th scope=col>PREVIOUS.PURCHASES</th><th scope=col>PAYMENT.METHOD</th><th scope=col>FREQUENCY.OF.PURCHASES</th></tr>\n",
              "\t<tr><th></th><th scope=col>&lt;int&gt;</th><th scope=col>&lt;int&gt;</th><th scope=col>&lt;chr&gt;</th><th scope=col>&lt;chr&gt;</th><th scope=col>&lt;chr&gt;</th><th scope=col>&lt;int&gt;</th><th scope=col>&lt;chr&gt;</th><th scope=col>&lt;chr&gt;</th><th scope=col>&lt;chr&gt;</th><th scope=col>&lt;chr&gt;</th><th scope=col>&lt;dbl&gt;</th><th scope=col>&lt;chr&gt;</th><th scope=col>&lt;chr&gt;</th><th scope=col>&lt;chr&gt;</th><th scope=col>&lt;chr&gt;</th><th scope=col>&lt;int&gt;</th><th scope=col>&lt;chr&gt;</th><th scope=col>&lt;chr&gt;</th></tr>\n",
              "</thead>\n",
              "<tbody>\n",
              "\t<tr><th scope=row>1</th><td>1</td><td>55</td><td>Male</td><td>Blouse  </td><td>Clothing</td><td>53</td><td>Kentucky     </td><td>L</td><td>Gray     </td><td>Winter</td><td>3.1</td><td>Yes</td><td>Express      </td><td>Yes</td><td>Yes</td><td>14</td><td>Venmo      </td><td>Fortnightly</td></tr>\n",
              "\t<tr><th scope=row>2</th><td>2</td><td>19</td><td>Male</td><td>Sweater </td><td>Clothing</td><td>64</td><td>Maine        </td><td>L</td><td>Maroon   </td><td>Winter</td><td>3.1</td><td>Yes</td><td>Express      </td><td>Yes</td><td>Yes</td><td> 2</td><td>Cash       </td><td>Fortnightly</td></tr>\n",
              "\t<tr><th scope=row>3</th><td>3</td><td>50</td><td>Male</td><td>Jeans   </td><td>Clothing</td><td>73</td><td>Massachusetts</td><td>S</td><td>Maroon   </td><td>Spring</td><td>3.1</td><td>Yes</td><td>Free Shipping</td><td>Yes</td><td>Yes</td><td>23</td><td>Credit Card</td><td>Weekly     </td></tr>\n",
              "\t<tr><th scope=row>4</th><td>4</td><td>21</td><td>Male</td><td>Sandals </td><td>Footwear</td><td>90</td><td>Rhode Island </td><td>M</td><td>Maroon   </td><td>Spring</td><td>3.5</td><td>Yes</td><td>Next Day Air </td><td>Yes</td><td>Yes</td><td>49</td><td>PayPal     </td><td>Weekly     </td></tr>\n",
              "\t<tr><th scope=row>5</th><td>5</td><td>45</td><td>Male</td><td>Blouse  </td><td>Clothing</td><td>49</td><td>Oregon       </td><td>M</td><td>Turquoise</td><td>Spring</td><td>2.7</td><td>Yes</td><td>Free Shipping</td><td>Yes</td><td>Yes</td><td>31</td><td>PayPal     </td><td>Annually   </td></tr>\n",
              "\t<tr><th scope=row>6</th><td>6</td><td>46</td><td>Male</td><td>Sneakers</td><td>Footwear</td><td>20</td><td>Wyoming      </td><td>M</td><td>White    </td><td>Summer</td><td>2.9</td><td>Yes</td><td>Standard     </td><td>Yes</td><td>Yes</td><td>14</td><td>Venmo      </td><td>Weekly     </td></tr>\n",
              "</tbody>\n",
              "</table>\n"
            ],
            "text/markdown": "\nA data.frame: 6 × 18\n\n| <!--/--> | CUSTOMER.ID &lt;int&gt; | AGE &lt;int&gt; | GENDER &lt;chr&gt; | ITEM.PURCHASED &lt;chr&gt; | CATEGORY &lt;chr&gt; | PURCHASE.AMOUNT &lt;int&gt; | LOCATION &lt;chr&gt; | SIZE &lt;chr&gt; | COLOR &lt;chr&gt; | SEASON &lt;chr&gt; | REVIEW.RATE &lt;dbl&gt; | SUBSCRIPTIONS &lt;chr&gt; | SHIPPING.TYPE &lt;chr&gt; | DISCOUNT.APPLIED &lt;chr&gt; | PROMO_CODE_USED &lt;chr&gt; | PREVIOUS.PURCHASES &lt;int&gt; | PAYMENT.METHOD &lt;chr&gt; | FREQUENCY.OF.PURCHASES &lt;chr&gt; |\n|---|---|---|---|---|---|---|---|---|---|---|---|---|---|---|---|---|---|---|\n| 1 | 1 | 55 | Male | Blouse   | Clothing | 53 | Kentucky      | L | Gray      | Winter | 3.1 | Yes | Express       | Yes | Yes | 14 | Venmo       | Fortnightly |\n| 2 | 2 | 19 | Male | Sweater  | Clothing | 64 | Maine         | L | Maroon    | Winter | 3.1 | Yes | Express       | Yes | Yes |  2 | Cash        | Fortnightly |\n| 3 | 3 | 50 | Male | Jeans    | Clothing | 73 | Massachusetts | S | Maroon    | Spring | 3.1 | Yes | Free Shipping | Yes | Yes | 23 | Credit Card | Weekly      |\n| 4 | 4 | 21 | Male | Sandals  | Footwear | 90 | Rhode Island  | M | Maroon    | Spring | 3.5 | Yes | Next Day Air  | Yes | Yes | 49 | PayPal      | Weekly      |\n| 5 | 5 | 45 | Male | Blouse   | Clothing | 49 | Oregon        | M | Turquoise | Spring | 2.7 | Yes | Free Shipping | Yes | Yes | 31 | PayPal      | Annually    |\n| 6 | 6 | 46 | Male | Sneakers | Footwear | 20 | Wyoming       | M | White     | Summer | 2.9 | Yes | Standard      | Yes | Yes | 14 | Venmo       | Weekly      |\n\n",
            "text/latex": "A data.frame: 6 × 18\n\\begin{tabular}{r|llllllllllllllllll}\n  & CUSTOMER.ID & AGE & GENDER & ITEM.PURCHASED & CATEGORY & PURCHASE.AMOUNT & LOCATION & SIZE & COLOR & SEASON & REVIEW.RATE & SUBSCRIPTIONS & SHIPPING.TYPE & DISCOUNT.APPLIED & PROMO\\_CODE\\_USED & PREVIOUS.PURCHASES & PAYMENT.METHOD & FREQUENCY.OF.PURCHASES\\\\\n  & <int> & <int> & <chr> & <chr> & <chr> & <int> & <chr> & <chr> & <chr> & <chr> & <dbl> & <chr> & <chr> & <chr> & <chr> & <int> & <chr> & <chr>\\\\\n\\hline\n\t1 & 1 & 55 & Male & Blouse   & Clothing & 53 & Kentucky      & L & Gray      & Winter & 3.1 & Yes & Express       & Yes & Yes & 14 & Venmo       & Fortnightly\\\\\n\t2 & 2 & 19 & Male & Sweater  & Clothing & 64 & Maine         & L & Maroon    & Winter & 3.1 & Yes & Express       & Yes & Yes &  2 & Cash        & Fortnightly\\\\\n\t3 & 3 & 50 & Male & Jeans    & Clothing & 73 & Massachusetts & S & Maroon    & Spring & 3.1 & Yes & Free Shipping & Yes & Yes & 23 & Credit Card & Weekly     \\\\\n\t4 & 4 & 21 & Male & Sandals  & Footwear & 90 & Rhode Island  & M & Maroon    & Spring & 3.5 & Yes & Next Day Air  & Yes & Yes & 49 & PayPal      & Weekly     \\\\\n\t5 & 5 & 45 & Male & Blouse   & Clothing & 49 & Oregon        & M & Turquoise & Spring & 2.7 & Yes & Free Shipping & Yes & Yes & 31 & PayPal      & Annually   \\\\\n\t6 & 6 & 46 & Male & Sneakers & Footwear & 20 & Wyoming       & M & White     & Summer & 2.9 & Yes & Standard      & Yes & Yes & 14 & Venmo       & Weekly     \\\\\n\\end{tabular}\n",
            "text/plain": [
              "  CUSTOMER.ID AGE GENDER ITEM.PURCHASED CATEGORY PURCHASE.AMOUNT LOCATION     \n",
              "1 1           55  Male   Blouse         Clothing 53              Kentucky     \n",
              "2 2           19  Male   Sweater        Clothing 64              Maine        \n",
              "3 3           50  Male   Jeans          Clothing 73              Massachusetts\n",
              "4 4           21  Male   Sandals        Footwear 90              Rhode Island \n",
              "5 5           45  Male   Blouse         Clothing 49              Oregon       \n",
              "6 6           46  Male   Sneakers       Footwear 20              Wyoming      \n",
              "  SIZE COLOR     SEASON REVIEW.RATE SUBSCRIPTIONS SHIPPING.TYPE\n",
              "1 L    Gray      Winter 3.1         Yes           Express      \n",
              "2 L    Maroon    Winter 3.1         Yes           Express      \n",
              "3 S    Maroon    Spring 3.1         Yes           Free Shipping\n",
              "4 M    Maroon    Spring 3.5         Yes           Next Day Air \n",
              "5 M    Turquoise Spring 2.7         Yes           Free Shipping\n",
              "6 M    White     Summer 2.9         Yes           Standard     \n",
              "  DISCOUNT.APPLIED PROMO_CODE_USED PREVIOUS.PURCHASES PAYMENT.METHOD\n",
              "1 Yes              Yes             14                 Venmo         \n",
              "2 Yes              Yes              2                 Cash          \n",
              "3 Yes              Yes             23                 Credit Card   \n",
              "4 Yes              Yes             49                 PayPal        \n",
              "5 Yes              Yes             31                 PayPal        \n",
              "6 Yes              Yes             14                 Venmo         \n",
              "  FREQUENCY.OF.PURCHASES\n",
              "1 Fortnightly           \n",
              "2 Fortnightly           \n",
              "3 Weekly                \n",
              "4 Weekly                \n",
              "5 Annually              \n",
              "6 Weekly                "
            ]
          },
          "metadata": {}
        }
      ],
      "source": [
        "df <- read.csv(\"shopping_trends_updated.csv\")\n",
        "head(df)"
      ]
    },
    {
      "cell_type": "code",
      "source": [
        "# CHECKING MISSING VALUES FOR EACH FEATURE DATA FRAME\n",
        "missing_values <- colSums(is.na(df))\n",
        "missing_values"
      ],
      "metadata": {
        "colab": {
          "base_uri": "https://localhost:8080/",
          "height": 69
        },
        "id": "lPnLo2x-Lo0S",
        "outputId": "96779142-8af4-4e56-f73f-a552bba1d268"
      },
      "execution_count": 2,
      "outputs": [
        {
          "output_type": "display_data",
          "data": {
            "text/html": [
              "<style>\n",
              ".dl-inline {width: auto; margin:0; padding: 0}\n",
              ".dl-inline>dt, .dl-inline>dd {float: none; width: auto; display: inline-block}\n",
              ".dl-inline>dt::after {content: \":\\0020\"; padding-right: .5ex}\n",
              ".dl-inline>dt:not(:first-of-type) {padding-left: .5ex}\n",
              "</style><dl class=dl-inline><dt>CUSTOMER.ID</dt><dd>0</dd><dt>AGE</dt><dd>0</dd><dt>GENDER</dt><dd>0</dd><dt>ITEM.PURCHASED</dt><dd>0</dd><dt>CATEGORY</dt><dd>0</dd><dt>PURCHASE.AMOUNT</dt><dd>0</dd><dt>LOCATION</dt><dd>0</dd><dt>SIZE</dt><dd>0</dd><dt>COLOR</dt><dd>0</dd><dt>SEASON</dt><dd>0</dd><dt>REVIEW.RATE</dt><dd>0</dd><dt>SUBSCRIPTIONS</dt><dd>0</dd><dt>SHIPPING.TYPE</dt><dd>0</dd><dt>DISCOUNT.APPLIED</dt><dd>0</dd><dt>PROMO_CODE_USED</dt><dd>0</dd><dt>PREVIOUS.PURCHASES</dt><dd>0</dd><dt>PAYMENT.METHOD</dt><dd>0</dd><dt>FREQUENCY.OF.PURCHASES</dt><dd>0</dd></dl>\n"
            ],
            "text/markdown": "CUSTOMER.ID\n:   0AGE\n:   0GENDER\n:   0ITEM.PURCHASED\n:   0CATEGORY\n:   0PURCHASE.AMOUNT\n:   0LOCATION\n:   0SIZE\n:   0COLOR\n:   0SEASON\n:   0REVIEW.RATE\n:   0SUBSCRIPTIONS\n:   0SHIPPING.TYPE\n:   0DISCOUNT.APPLIED\n:   0PROMO_CODE_USED\n:   0PREVIOUS.PURCHASES\n:   0PAYMENT.METHOD\n:   0FREQUENCY.OF.PURCHASES\n:   0\n\n",
            "text/latex": "\\begin{description*}\n\\item[CUSTOMER.ID] 0\n\\item[AGE] 0\n\\item[GENDER] 0\n\\item[ITEM.PURCHASED] 0\n\\item[CATEGORY] 0\n\\item[PURCHASE.AMOUNT] 0\n\\item[LOCATION] 0\n\\item[SIZE] 0\n\\item[COLOR] 0\n\\item[SEASON] 0\n\\item[REVIEW.RATE] 0\n\\item[SUBSCRIPTIONS] 0\n\\item[SHIPPING.TYPE] 0\n\\item[DISCOUNT.APPLIED] 0\n\\item[PROMO\\textbackslash{}\\_CODE\\textbackslash{}\\_USED] 0\n\\item[PREVIOUS.PURCHASES] 0\n\\item[PAYMENT.METHOD] 0\n\\item[FREQUENCY.OF.PURCHASES] 0\n\\end{description*}\n",
            "text/plain": [
              "           CUSTOMER.ID                    AGE                 GENDER \n",
              "                     0                      0                      0 \n",
              "        ITEM.PURCHASED               CATEGORY        PURCHASE.AMOUNT \n",
              "                     0                      0                      0 \n",
              "              LOCATION                   SIZE                  COLOR \n",
              "                     0                      0                      0 \n",
              "                SEASON            REVIEW.RATE          SUBSCRIPTIONS \n",
              "                     0                      0                      0 \n",
              "         SHIPPING.TYPE       DISCOUNT.APPLIED        PROMO_CODE_USED \n",
              "                     0                      0                      0 \n",
              "    PREVIOUS.PURCHASES         PAYMENT.METHOD FREQUENCY.OF.PURCHASES \n",
              "                     0                      0                      0 "
            ]
          },
          "metadata": {}
        }
      ]
    },
    {
      "cell_type": "code",
      "source": [
        "# REMOVING DUPLICATED ROWS\n",
        "unique_df <- unique(df)\n",
        "df <- unique_df\n",
        "head(df)"
      ],
      "metadata": {
        "colab": {
          "base_uri": "https://localhost:8080/",
          "height": 306
        },
        "id": "bccek-aRP3bx",
        "outputId": "f13c0e4c-e5ac-46bc-9e0d-186ac789ef20"
      },
      "execution_count": 3,
      "outputs": [
        {
          "output_type": "display_data",
          "data": {
            "text/html": [
              "<table class=\"dataframe\">\n",
              "<caption>A data.frame: 6 × 18</caption>\n",
              "<thead>\n",
              "\t<tr><th></th><th scope=col>CUSTOMER.ID</th><th scope=col>AGE</th><th scope=col>GENDER</th><th scope=col>ITEM.PURCHASED</th><th scope=col>CATEGORY</th><th scope=col>PURCHASE.AMOUNT</th><th scope=col>LOCATION</th><th scope=col>SIZE</th><th scope=col>COLOR</th><th scope=col>SEASON</th><th scope=col>REVIEW.RATE</th><th scope=col>SUBSCRIPTIONS</th><th scope=col>SHIPPING.TYPE</th><th scope=col>DISCOUNT.APPLIED</th><th scope=col>PROMO_CODE_USED</th><th scope=col>PREVIOUS.PURCHASES</th><th scope=col>PAYMENT.METHOD</th><th scope=col>FREQUENCY.OF.PURCHASES</th></tr>\n",
              "\t<tr><th></th><th scope=col>&lt;int&gt;</th><th scope=col>&lt;int&gt;</th><th scope=col>&lt;chr&gt;</th><th scope=col>&lt;chr&gt;</th><th scope=col>&lt;chr&gt;</th><th scope=col>&lt;int&gt;</th><th scope=col>&lt;chr&gt;</th><th scope=col>&lt;chr&gt;</th><th scope=col>&lt;chr&gt;</th><th scope=col>&lt;chr&gt;</th><th scope=col>&lt;dbl&gt;</th><th scope=col>&lt;chr&gt;</th><th scope=col>&lt;chr&gt;</th><th scope=col>&lt;chr&gt;</th><th scope=col>&lt;chr&gt;</th><th scope=col>&lt;int&gt;</th><th scope=col>&lt;chr&gt;</th><th scope=col>&lt;chr&gt;</th></tr>\n",
              "</thead>\n",
              "<tbody>\n",
              "\t<tr><th scope=row>1</th><td>1</td><td>55</td><td>Male</td><td>Blouse  </td><td>Clothing</td><td>53</td><td>Kentucky     </td><td>L</td><td>Gray     </td><td>Winter</td><td>3.1</td><td>Yes</td><td>Express      </td><td>Yes</td><td>Yes</td><td>14</td><td>Venmo      </td><td>Fortnightly</td></tr>\n",
              "\t<tr><th scope=row>2</th><td>2</td><td>19</td><td>Male</td><td>Sweater </td><td>Clothing</td><td>64</td><td>Maine        </td><td>L</td><td>Maroon   </td><td>Winter</td><td>3.1</td><td>Yes</td><td>Express      </td><td>Yes</td><td>Yes</td><td> 2</td><td>Cash       </td><td>Fortnightly</td></tr>\n",
              "\t<tr><th scope=row>3</th><td>3</td><td>50</td><td>Male</td><td>Jeans   </td><td>Clothing</td><td>73</td><td>Massachusetts</td><td>S</td><td>Maroon   </td><td>Spring</td><td>3.1</td><td>Yes</td><td>Free Shipping</td><td>Yes</td><td>Yes</td><td>23</td><td>Credit Card</td><td>Weekly     </td></tr>\n",
              "\t<tr><th scope=row>4</th><td>4</td><td>21</td><td>Male</td><td>Sandals </td><td>Footwear</td><td>90</td><td>Rhode Island </td><td>M</td><td>Maroon   </td><td>Spring</td><td>3.5</td><td>Yes</td><td>Next Day Air </td><td>Yes</td><td>Yes</td><td>49</td><td>PayPal     </td><td>Weekly     </td></tr>\n",
              "\t<tr><th scope=row>5</th><td>5</td><td>45</td><td>Male</td><td>Blouse  </td><td>Clothing</td><td>49</td><td>Oregon       </td><td>M</td><td>Turquoise</td><td>Spring</td><td>2.7</td><td>Yes</td><td>Free Shipping</td><td>Yes</td><td>Yes</td><td>31</td><td>PayPal     </td><td>Annually   </td></tr>\n",
              "\t<tr><th scope=row>6</th><td>6</td><td>46</td><td>Male</td><td>Sneakers</td><td>Footwear</td><td>20</td><td>Wyoming      </td><td>M</td><td>White    </td><td>Summer</td><td>2.9</td><td>Yes</td><td>Standard     </td><td>Yes</td><td>Yes</td><td>14</td><td>Venmo      </td><td>Weekly     </td></tr>\n",
              "</tbody>\n",
              "</table>\n"
            ],
            "text/markdown": "\nA data.frame: 6 × 18\n\n| <!--/--> | CUSTOMER.ID &lt;int&gt; | AGE &lt;int&gt; | GENDER &lt;chr&gt; | ITEM.PURCHASED &lt;chr&gt; | CATEGORY &lt;chr&gt; | PURCHASE.AMOUNT &lt;int&gt; | LOCATION &lt;chr&gt; | SIZE &lt;chr&gt; | COLOR &lt;chr&gt; | SEASON &lt;chr&gt; | REVIEW.RATE &lt;dbl&gt; | SUBSCRIPTIONS &lt;chr&gt; | SHIPPING.TYPE &lt;chr&gt; | DISCOUNT.APPLIED &lt;chr&gt; | PROMO_CODE_USED &lt;chr&gt; | PREVIOUS.PURCHASES &lt;int&gt; | PAYMENT.METHOD &lt;chr&gt; | FREQUENCY.OF.PURCHASES &lt;chr&gt; |\n|---|---|---|---|---|---|---|---|---|---|---|---|---|---|---|---|---|---|---|\n| 1 | 1 | 55 | Male | Blouse   | Clothing | 53 | Kentucky      | L | Gray      | Winter | 3.1 | Yes | Express       | Yes | Yes | 14 | Venmo       | Fortnightly |\n| 2 | 2 | 19 | Male | Sweater  | Clothing | 64 | Maine         | L | Maroon    | Winter | 3.1 | Yes | Express       | Yes | Yes |  2 | Cash        | Fortnightly |\n| 3 | 3 | 50 | Male | Jeans    | Clothing | 73 | Massachusetts | S | Maroon    | Spring | 3.1 | Yes | Free Shipping | Yes | Yes | 23 | Credit Card | Weekly      |\n| 4 | 4 | 21 | Male | Sandals  | Footwear | 90 | Rhode Island  | M | Maroon    | Spring | 3.5 | Yes | Next Day Air  | Yes | Yes | 49 | PayPal      | Weekly      |\n| 5 | 5 | 45 | Male | Blouse   | Clothing | 49 | Oregon        | M | Turquoise | Spring | 2.7 | Yes | Free Shipping | Yes | Yes | 31 | PayPal      | Annually    |\n| 6 | 6 | 46 | Male | Sneakers | Footwear | 20 | Wyoming       | M | White     | Summer | 2.9 | Yes | Standard      | Yes | Yes | 14 | Venmo       | Weekly      |\n\n",
            "text/latex": "A data.frame: 6 × 18\n\\begin{tabular}{r|llllllllllllllllll}\n  & CUSTOMER.ID & AGE & GENDER & ITEM.PURCHASED & CATEGORY & PURCHASE.AMOUNT & LOCATION & SIZE & COLOR & SEASON & REVIEW.RATE & SUBSCRIPTIONS & SHIPPING.TYPE & DISCOUNT.APPLIED & PROMO\\_CODE\\_USED & PREVIOUS.PURCHASES & PAYMENT.METHOD & FREQUENCY.OF.PURCHASES\\\\\n  & <int> & <int> & <chr> & <chr> & <chr> & <int> & <chr> & <chr> & <chr> & <chr> & <dbl> & <chr> & <chr> & <chr> & <chr> & <int> & <chr> & <chr>\\\\\n\\hline\n\t1 & 1 & 55 & Male & Blouse   & Clothing & 53 & Kentucky      & L & Gray      & Winter & 3.1 & Yes & Express       & Yes & Yes & 14 & Venmo       & Fortnightly\\\\\n\t2 & 2 & 19 & Male & Sweater  & Clothing & 64 & Maine         & L & Maroon    & Winter & 3.1 & Yes & Express       & Yes & Yes &  2 & Cash        & Fortnightly\\\\\n\t3 & 3 & 50 & Male & Jeans    & Clothing & 73 & Massachusetts & S & Maroon    & Spring & 3.1 & Yes & Free Shipping & Yes & Yes & 23 & Credit Card & Weekly     \\\\\n\t4 & 4 & 21 & Male & Sandals  & Footwear & 90 & Rhode Island  & M & Maroon    & Spring & 3.5 & Yes & Next Day Air  & Yes & Yes & 49 & PayPal      & Weekly     \\\\\n\t5 & 5 & 45 & Male & Blouse   & Clothing & 49 & Oregon        & M & Turquoise & Spring & 2.7 & Yes & Free Shipping & Yes & Yes & 31 & PayPal      & Annually   \\\\\n\t6 & 6 & 46 & Male & Sneakers & Footwear & 20 & Wyoming       & M & White     & Summer & 2.9 & Yes & Standard      & Yes & Yes & 14 & Venmo       & Weekly     \\\\\n\\end{tabular}\n",
            "text/plain": [
              "  CUSTOMER.ID AGE GENDER ITEM.PURCHASED CATEGORY PURCHASE.AMOUNT LOCATION     \n",
              "1 1           55  Male   Blouse         Clothing 53              Kentucky     \n",
              "2 2           19  Male   Sweater        Clothing 64              Maine        \n",
              "3 3           50  Male   Jeans          Clothing 73              Massachusetts\n",
              "4 4           21  Male   Sandals        Footwear 90              Rhode Island \n",
              "5 5           45  Male   Blouse         Clothing 49              Oregon       \n",
              "6 6           46  Male   Sneakers       Footwear 20              Wyoming      \n",
              "  SIZE COLOR     SEASON REVIEW.RATE SUBSCRIPTIONS SHIPPING.TYPE\n",
              "1 L    Gray      Winter 3.1         Yes           Express      \n",
              "2 L    Maroon    Winter 3.1         Yes           Express      \n",
              "3 S    Maroon    Spring 3.1         Yes           Free Shipping\n",
              "4 M    Maroon    Spring 3.5         Yes           Next Day Air \n",
              "5 M    Turquoise Spring 2.7         Yes           Free Shipping\n",
              "6 M    White     Summer 2.9         Yes           Standard     \n",
              "  DISCOUNT.APPLIED PROMO_CODE_USED PREVIOUS.PURCHASES PAYMENT.METHOD\n",
              "1 Yes              Yes             14                 Venmo         \n",
              "2 Yes              Yes              2                 Cash          \n",
              "3 Yes              Yes             23                 Credit Card   \n",
              "4 Yes              Yes             49                 PayPal        \n",
              "5 Yes              Yes             31                 PayPal        \n",
              "6 Yes              Yes             14                 Venmo         \n",
              "  FREQUENCY.OF.PURCHASES\n",
              "1 Fortnightly           \n",
              "2 Fortnightly           \n",
              "3 Weekly                \n",
              "4 Weekly                \n",
              "5 Annually              \n",
              "6 Weekly                "
            ]
          },
          "metadata": {}
        }
      ]
    },
    {
      "cell_type": "markdown",
      "source": [
        "CHANGE STRINGS TO NUMERIC"
      ],
      "metadata": {
        "id": "Z0Thg0Ogq7bY"
      }
    },
    {
      "cell_type": "code",
      "source": [
        "createNumericMapping <- function(column) {\n",
        "  unique_values <- unique(column)\n",
        "  if (length(unique_values) > 0) {\n",
        "    mapping <- setNames(0:(length(unique_values) - 1), unique_values)\n",
        "    return(mapping[column])\n",
        "  } else {\n",
        "    return(column)\n",
        "  }\n",
        "}\n",
        "\n",
        "# Apply the function to each relevant column\n",
        "df$GENDER <- createNumericMapping(df$GENDER)\n",
        "unique(df$GENDER)\n",
        "\n",
        "df$ITEM.PURCHASED <- createNumericMapping(df$ITEM.PURCHASED)\n",
        "unique(df$ITEM.PURCHASED)\n",
        "\n",
        "df$CATEGORY <- createNumericMapping(df$CATEGORY)\n",
        "unique(df$CATEGORY)\n",
        "\n",
        "df$LOCATION <- createNumericMapping(df$LOCATION)\n",
        "unique(df$LOCATION)\n",
        "\n",
        "df$SIZE <- createNumericMapping(df$SIZE)\n",
        "unique(df$SIZE)\n",
        "\n",
        "df$COLOR <- createNumericMapping(df$COLOR)\n",
        "unique(df$COLOR)\n",
        "\n",
        "df$SEASON <- createNumericMapping(df$SEASON)\n",
        "unique(df$SEASON)\n",
        "\n",
        "df$SUBSCRIPTIONS <- createNumericMapping(df$SUBSCRIPTIONS)\n",
        "unique(df$SUBSCRIPTIONS)\n",
        "\n",
        "df$SHIPPING.TYPE <- createNumericMapping(df$SHIPPING.TYPE)\n",
        "unique(df$SHIPPING.TYPE)\n",
        "\n",
        "df$DISCOUNT.APPLIED <- createNumericMapping(df$DISCOUNT.APPLIED)\n",
        "unique(df$DISCOUNT.APPLIED)\n",
        "\n",
        "x <- createNumericMapping(df$PROMO_CODE_USED)\n",
        "df$PROMO_CODE_USED <- x\n",
        "unique(df$PROMO_CODE_USED)\n",
        "\n",
        "df$PAYMENT.METHOD <- createNumericMapping(df$PAYMENT.METHOD)\n",
        "unique(df$PAYMENT.METHOD)\n",
        "\n",
        "df$FREQUENCY.OF.PURCHASES <- createNumericMapping(df$FREQUENCY.OF.PURCHASES)\n",
        "unique(df$FREQUENCY.OF.PURCHASES)"
      ],
      "metadata": {
        "colab": {
          "base_uri": "https://localhost:8080/",
          "height": 260
        },
        "id": "qTlFGe0lJDuf",
        "outputId": "fbcc8155-08bb-45db-ffe7-6bd52578d424"
      },
      "execution_count": 4,
      "outputs": [
        {
          "output_type": "display_data",
          "data": {
            "text/html": [
              "<style>\n",
              ".list-inline {list-style: none; margin:0; padding: 0}\n",
              ".list-inline>li {display: inline-block}\n",
              ".list-inline>li:not(:last-child)::after {content: \"\\00b7\"; padding: 0 .5ex}\n",
              "</style>\n",
              "<ol class=list-inline><li>0</li><li>1</li></ol>\n"
            ],
            "text/markdown": "1. 0\n2. 1\n\n\n",
            "text/latex": "\\begin{enumerate*}\n\\item 0\n\\item 1\n\\end{enumerate*}\n",
            "text/plain": [
              "[1] 0 1"
            ]
          },
          "metadata": {}
        },
        {
          "output_type": "display_data",
          "data": {
            "text/html": [
              "<style>\n",
              ".list-inline {list-style: none; margin:0; padding: 0}\n",
              ".list-inline>li {display: inline-block}\n",
              ".list-inline>li:not(:last-child)::after {content: \"\\00b7\"; padding: 0 .5ex}\n",
              "</style>\n",
              "<ol class=list-inline><li>0</li><li>1</li><li>2</li><li>3</li><li>4</li><li>5</li><li>6</li><li>7</li><li>8</li><li>9</li><li>10</li><li>11</li><li>12</li><li>13</li><li>14</li><li>15</li><li>16</li><li>17</li><li>18</li><li>19</li><li>20</li><li>21</li><li>22</li><li>23</li><li>24</li></ol>\n"
            ],
            "text/markdown": "1. 0\n2. 1\n3. 2\n4. 3\n5. 4\n6. 5\n7. 6\n8. 7\n9. 8\n10. 9\n11. 10\n12. 11\n13. 12\n14. 13\n15. 14\n16. 15\n17. 16\n18. 17\n19. 18\n20. 19\n21. 20\n22. 21\n23. 22\n24. 23\n25. 24\n\n\n",
            "text/latex": "\\begin{enumerate*}\n\\item 0\n\\item 1\n\\item 2\n\\item 3\n\\item 4\n\\item 5\n\\item 6\n\\item 7\n\\item 8\n\\item 9\n\\item 10\n\\item 11\n\\item 12\n\\item 13\n\\item 14\n\\item 15\n\\item 16\n\\item 17\n\\item 18\n\\item 19\n\\item 20\n\\item 21\n\\item 22\n\\item 23\n\\item 24\n\\end{enumerate*}\n",
            "text/plain": [
              " [1]  0  1  2  3  4  5  6  7  8  9 10 11 12 13 14 15 16 17 18 19 20 21 22 23 24"
            ]
          },
          "metadata": {}
        },
        {
          "output_type": "display_data",
          "data": {
            "text/html": [
              "<style>\n",
              ".list-inline {list-style: none; margin:0; padding: 0}\n",
              ".list-inline>li {display: inline-block}\n",
              ".list-inline>li:not(:last-child)::after {content: \"\\00b7\"; padding: 0 .5ex}\n",
              "</style>\n",
              "<ol class=list-inline><li>0</li><li>1</li><li>2</li><li>3</li></ol>\n"
            ],
            "text/markdown": "1. 0\n2. 1\n3. 2\n4. 3\n\n\n",
            "text/latex": "\\begin{enumerate*}\n\\item 0\n\\item 1\n\\item 2\n\\item 3\n\\end{enumerate*}\n",
            "text/plain": [
              "[1] 0 1 2 3"
            ]
          },
          "metadata": {}
        },
        {
          "output_type": "display_data",
          "data": {
            "text/html": [
              "<style>\n",
              ".list-inline {list-style: none; margin:0; padding: 0}\n",
              ".list-inline>li {display: inline-block}\n",
              ".list-inline>li:not(:last-child)::after {content: \"\\00b7\"; padding: 0 .5ex}\n",
              "</style>\n",
              "<ol class=list-inline><li>0</li><li>1</li><li>2</li><li>3</li><li>4</li><li>5</li><li>6</li><li>7</li><li>8</li><li>9</li><li>10</li><li>11</li><li>12</li><li>13</li><li>14</li><li>15</li><li>16</li><li>17</li><li>18</li><li>19</li><li>20</li><li>21</li><li>22</li><li>23</li><li>24</li><li>25</li><li>26</li><li>27</li><li>28</li><li>29</li><li>30</li><li>31</li><li>32</li><li>33</li><li>34</li><li>35</li><li>36</li><li>37</li><li>38</li><li>39</li><li>40</li><li>41</li><li>42</li><li>43</li><li>44</li><li>45</li><li>46</li><li>47</li><li>48</li><li>49</li></ol>\n"
            ],
            "text/markdown": "1. 0\n2. 1\n3. 2\n4. 3\n5. 4\n6. 5\n7. 6\n8. 7\n9. 8\n10. 9\n11. 10\n12. 11\n13. 12\n14. 13\n15. 14\n16. 15\n17. 16\n18. 17\n19. 18\n20. 19\n21. 20\n22. 21\n23. 22\n24. 23\n25. 24\n26. 25\n27. 26\n28. 27\n29. 28\n30. 29\n31. 30\n32. 31\n33. 32\n34. 33\n35. 34\n36. 35\n37. 36\n38. 37\n39. 38\n40. 39\n41. 40\n42. 41\n43. 42\n44. 43\n45. 44\n46. 45\n47. 46\n48. 47\n49. 48\n50. 49\n\n\n",
            "text/latex": "\\begin{enumerate*}\n\\item 0\n\\item 1\n\\item 2\n\\item 3\n\\item 4\n\\item 5\n\\item 6\n\\item 7\n\\item 8\n\\item 9\n\\item 10\n\\item 11\n\\item 12\n\\item 13\n\\item 14\n\\item 15\n\\item 16\n\\item 17\n\\item 18\n\\item 19\n\\item 20\n\\item 21\n\\item 22\n\\item 23\n\\item 24\n\\item 25\n\\item 26\n\\item 27\n\\item 28\n\\item 29\n\\item 30\n\\item 31\n\\item 32\n\\item 33\n\\item 34\n\\item 35\n\\item 36\n\\item 37\n\\item 38\n\\item 39\n\\item 40\n\\item 41\n\\item 42\n\\item 43\n\\item 44\n\\item 45\n\\item 46\n\\item 47\n\\item 48\n\\item 49\n\\end{enumerate*}\n",
            "text/plain": [
              " [1]  0  1  2  3  4  5  6  7  8  9 10 11 12 13 14 15 16 17 18 19 20 21 22 23 24\n",
              "[26] 25 26 27 28 29 30 31 32 33 34 35 36 37 38 39 40 41 42 43 44 45 46 47 48 49"
            ]
          },
          "metadata": {}
        },
        {
          "output_type": "display_data",
          "data": {
            "text/html": [
              "<style>\n",
              ".list-inline {list-style: none; margin:0; padding: 0}\n",
              ".list-inline>li {display: inline-block}\n",
              ".list-inline>li:not(:last-child)::after {content: \"\\00b7\"; padding: 0 .5ex}\n",
              "</style>\n",
              "<ol class=list-inline><li>0</li><li>1</li><li>2</li><li>3</li></ol>\n"
            ],
            "text/markdown": "1. 0\n2. 1\n3. 2\n4. 3\n\n\n",
            "text/latex": "\\begin{enumerate*}\n\\item 0\n\\item 1\n\\item 2\n\\item 3\n\\end{enumerate*}\n",
            "text/plain": [
              "[1] 0 1 2 3"
            ]
          },
          "metadata": {}
        },
        {
          "output_type": "display_data",
          "data": {
            "text/html": [
              "<style>\n",
              ".list-inline {list-style: none; margin:0; padding: 0}\n",
              ".list-inline>li {display: inline-block}\n",
              ".list-inline>li:not(:last-child)::after {content: \"\\00b7\"; padding: 0 .5ex}\n",
              "</style>\n",
              "<ol class=list-inline><li>0</li><li>1</li><li>2</li><li>3</li><li>4</li><li>5</li><li>6</li><li>7</li><li>8</li><li>9</li><li>10</li><li>11</li><li>12</li><li>13</li><li>14</li><li>15</li><li>16</li><li>17</li><li>18</li><li>19</li><li>20</li><li>21</li><li>22</li><li>23</li><li>24</li></ol>\n"
            ],
            "text/markdown": "1. 0\n2. 1\n3. 2\n4. 3\n5. 4\n6. 5\n7. 6\n8. 7\n9. 8\n10. 9\n11. 10\n12. 11\n13. 12\n14. 13\n15. 14\n16. 15\n17. 16\n18. 17\n19. 18\n20. 19\n21. 20\n22. 21\n23. 22\n24. 23\n25. 24\n\n\n",
            "text/latex": "\\begin{enumerate*}\n\\item 0\n\\item 1\n\\item 2\n\\item 3\n\\item 4\n\\item 5\n\\item 6\n\\item 7\n\\item 8\n\\item 9\n\\item 10\n\\item 11\n\\item 12\n\\item 13\n\\item 14\n\\item 15\n\\item 16\n\\item 17\n\\item 18\n\\item 19\n\\item 20\n\\item 21\n\\item 22\n\\item 23\n\\item 24\n\\end{enumerate*}\n",
            "text/plain": [
              " [1]  0  1  2  3  4  5  6  7  8  9 10 11 12 13 14 15 16 17 18 19 20 21 22 23 24"
            ]
          },
          "metadata": {}
        },
        {
          "output_type": "display_data",
          "data": {
            "text/html": [
              "<style>\n",
              ".list-inline {list-style: none; margin:0; padding: 0}\n",
              ".list-inline>li {display: inline-block}\n",
              ".list-inline>li:not(:last-child)::after {content: \"\\00b7\"; padding: 0 .5ex}\n",
              "</style>\n",
              "<ol class=list-inline><li>0</li><li>1</li><li>2</li><li>3</li></ol>\n"
            ],
            "text/markdown": "1. 0\n2. 1\n3. 2\n4. 3\n\n\n",
            "text/latex": "\\begin{enumerate*}\n\\item 0\n\\item 1\n\\item 2\n\\item 3\n\\end{enumerate*}\n",
            "text/plain": [
              "[1] 0 1 2 3"
            ]
          },
          "metadata": {}
        },
        {
          "output_type": "display_data",
          "data": {
            "text/html": [
              "<style>\n",
              ".list-inline {list-style: none; margin:0; padding: 0}\n",
              ".list-inline>li {display: inline-block}\n",
              ".list-inline>li:not(:last-child)::after {content: \"\\00b7\"; padding: 0 .5ex}\n",
              "</style>\n",
              "<ol class=list-inline><li>0</li><li>1</li></ol>\n"
            ],
            "text/markdown": "1. 0\n2. 1\n\n\n",
            "text/latex": "\\begin{enumerate*}\n\\item 0\n\\item 1\n\\end{enumerate*}\n",
            "text/plain": [
              "[1] 0 1"
            ]
          },
          "metadata": {}
        },
        {
          "output_type": "display_data",
          "data": {
            "text/html": [
              "<style>\n",
              ".list-inline {list-style: none; margin:0; padding: 0}\n",
              ".list-inline>li {display: inline-block}\n",
              ".list-inline>li:not(:last-child)::after {content: \"\\00b7\"; padding: 0 .5ex}\n",
              "</style>\n",
              "<ol class=list-inline><li>0</li><li>1</li><li>2</li><li>3</li><li>4</li><li>5</li></ol>\n"
            ],
            "text/markdown": "1. 0\n2. 1\n3. 2\n4. 3\n5. 4\n6. 5\n\n\n",
            "text/latex": "\\begin{enumerate*}\n\\item 0\n\\item 1\n\\item 2\n\\item 3\n\\item 4\n\\item 5\n\\end{enumerate*}\n",
            "text/plain": [
              "[1] 0 1 2 3 4 5"
            ]
          },
          "metadata": {}
        },
        {
          "output_type": "display_data",
          "data": {
            "text/html": [
              "<style>\n",
              ".list-inline {list-style: none; margin:0; padding: 0}\n",
              ".list-inline>li {display: inline-block}\n",
              ".list-inline>li:not(:last-child)::after {content: \"\\00b7\"; padding: 0 .5ex}\n",
              "</style>\n",
              "<ol class=list-inline><li>0</li><li>1</li></ol>\n"
            ],
            "text/markdown": "1. 0\n2. 1\n\n\n",
            "text/latex": "\\begin{enumerate*}\n\\item 0\n\\item 1\n\\end{enumerate*}\n",
            "text/plain": [
              "[1] 0 1"
            ]
          },
          "metadata": {}
        },
        {
          "output_type": "display_data",
          "data": {
            "text/html": [
              "<style>\n",
              ".list-inline {list-style: none; margin:0; padding: 0}\n",
              ".list-inline>li {display: inline-block}\n",
              ".list-inline>li:not(:last-child)::after {content: \"\\00b7\"; padding: 0 .5ex}\n",
              "</style>\n",
              "<ol class=list-inline><li>0</li><li>1</li></ol>\n"
            ],
            "text/markdown": "1. 0\n2. 1\n\n\n",
            "text/latex": "\\begin{enumerate*}\n\\item 0\n\\item 1\n\\end{enumerate*}\n",
            "text/plain": [
              "[1] 0 1"
            ]
          },
          "metadata": {}
        },
        {
          "output_type": "display_data",
          "data": {
            "text/html": [
              "<style>\n",
              ".list-inline {list-style: none; margin:0; padding: 0}\n",
              ".list-inline>li {display: inline-block}\n",
              ".list-inline>li:not(:last-child)::after {content: \"\\00b7\"; padding: 0 .5ex}\n",
              "</style>\n",
              "<ol class=list-inline><li>0</li><li>1</li><li>2</li><li>3</li><li>4</li><li>5</li></ol>\n"
            ],
            "text/markdown": "1. 0\n2. 1\n3. 2\n4. 3\n5. 4\n6. 5\n\n\n",
            "text/latex": "\\begin{enumerate*}\n\\item 0\n\\item 1\n\\item 2\n\\item 3\n\\item 4\n\\item 5\n\\end{enumerate*}\n",
            "text/plain": [
              "[1] 0 1 2 3 4 5"
            ]
          },
          "metadata": {}
        },
        {
          "output_type": "display_data",
          "data": {
            "text/html": [
              "<style>\n",
              ".list-inline {list-style: none; margin:0; padding: 0}\n",
              ".list-inline>li {display: inline-block}\n",
              ".list-inline>li:not(:last-child)::after {content: \"\\00b7\"; padding: 0 .5ex}\n",
              "</style>\n",
              "<ol class=list-inline><li>0</li><li>1</li><li>2</li><li>3</li><li>4</li><li>5</li><li>6</li></ol>\n"
            ],
            "text/markdown": "1. 0\n2. 1\n3. 2\n4. 3\n5. 4\n6. 5\n7. 6\n\n\n",
            "text/latex": "\\begin{enumerate*}\n\\item 0\n\\item 1\n\\item 2\n\\item 3\n\\item 4\n\\item 5\n\\item 6\n\\end{enumerate*}\n",
            "text/plain": [
              "[1] 0 1 2 3 4 5 6"
            ]
          },
          "metadata": {}
        }
      ]
    },
    {
      "cell_type": "code",
      "source": [
        "head(df)"
      ],
      "metadata": {
        "colab": {
          "base_uri": "https://localhost:8080/",
          "height": 306
        },
        "id": "_esOfFj8Y2kv",
        "outputId": "681aa6b0-bde7-4dab-f04c-d87e6cfb611d"
      },
      "execution_count": 5,
      "outputs": [
        {
          "output_type": "display_data",
          "data": {
            "text/html": [
              "<table class=\"dataframe\">\n",
              "<caption>A data.frame: 6 × 18</caption>\n",
              "<thead>\n",
              "\t<tr><th></th><th scope=col>CUSTOMER.ID</th><th scope=col>AGE</th><th scope=col>GENDER</th><th scope=col>ITEM.PURCHASED</th><th scope=col>CATEGORY</th><th scope=col>PURCHASE.AMOUNT</th><th scope=col>LOCATION</th><th scope=col>SIZE</th><th scope=col>COLOR</th><th scope=col>SEASON</th><th scope=col>REVIEW.RATE</th><th scope=col>SUBSCRIPTIONS</th><th scope=col>SHIPPING.TYPE</th><th scope=col>DISCOUNT.APPLIED</th><th scope=col>PROMO_CODE_USED</th><th scope=col>PREVIOUS.PURCHASES</th><th scope=col>PAYMENT.METHOD</th><th scope=col>FREQUENCY.OF.PURCHASES</th></tr>\n",
              "\t<tr><th></th><th scope=col>&lt;int&gt;</th><th scope=col>&lt;int&gt;</th><th scope=col>&lt;int&gt;</th><th scope=col>&lt;int&gt;</th><th scope=col>&lt;int&gt;</th><th scope=col>&lt;int&gt;</th><th scope=col>&lt;int&gt;</th><th scope=col>&lt;int&gt;</th><th scope=col>&lt;int&gt;</th><th scope=col>&lt;int&gt;</th><th scope=col>&lt;dbl&gt;</th><th scope=col>&lt;int&gt;</th><th scope=col>&lt;int&gt;</th><th scope=col>&lt;int&gt;</th><th scope=col>&lt;int&gt;</th><th scope=col>&lt;int&gt;</th><th scope=col>&lt;int&gt;</th><th scope=col>&lt;int&gt;</th></tr>\n",
              "</thead>\n",
              "<tbody>\n",
              "\t<tr><th scope=row>1</th><td>1</td><td>55</td><td>0</td><td>0</td><td>0</td><td>53</td><td>0</td><td>0</td><td>0</td><td>0</td><td>3.1</td><td>0</td><td>0</td><td>0</td><td>0</td><td>14</td><td>0</td><td>0</td></tr>\n",
              "\t<tr><th scope=row>2</th><td>2</td><td>19</td><td>0</td><td>1</td><td>0</td><td>64</td><td>1</td><td>0</td><td>1</td><td>0</td><td>3.1</td><td>0</td><td>0</td><td>0</td><td>0</td><td> 2</td><td>1</td><td>0</td></tr>\n",
              "\t<tr><th scope=row>3</th><td>3</td><td>50</td><td>0</td><td>2</td><td>0</td><td>73</td><td>2</td><td>1</td><td>1</td><td>1</td><td>3.1</td><td>0</td><td>1</td><td>0</td><td>0</td><td>23</td><td>2</td><td>1</td></tr>\n",
              "\t<tr><th scope=row>4</th><td>4</td><td>21</td><td>0</td><td>3</td><td>1</td><td>90</td><td>3</td><td>2</td><td>1</td><td>1</td><td>3.5</td><td>0</td><td>2</td><td>0</td><td>0</td><td>49</td><td>3</td><td>1</td></tr>\n",
              "\t<tr><th scope=row>5</th><td>5</td><td>45</td><td>0</td><td>0</td><td>0</td><td>49</td><td>4</td><td>2</td><td>2</td><td>1</td><td>2.7</td><td>0</td><td>1</td><td>0</td><td>0</td><td>31</td><td>3</td><td>2</td></tr>\n",
              "\t<tr><th scope=row>6</th><td>6</td><td>46</td><td>0</td><td>4</td><td>1</td><td>20</td><td>5</td><td>2</td><td>3</td><td>2</td><td>2.9</td><td>0</td><td>3</td><td>0</td><td>0</td><td>14</td><td>0</td><td>1</td></tr>\n",
              "</tbody>\n",
              "</table>\n"
            ],
            "text/markdown": "\nA data.frame: 6 × 18\n\n| <!--/--> | CUSTOMER.ID &lt;int&gt; | AGE &lt;int&gt; | GENDER &lt;int&gt; | ITEM.PURCHASED &lt;int&gt; | CATEGORY &lt;int&gt; | PURCHASE.AMOUNT &lt;int&gt; | LOCATION &lt;int&gt; | SIZE &lt;int&gt; | COLOR &lt;int&gt; | SEASON &lt;int&gt; | REVIEW.RATE &lt;dbl&gt; | SUBSCRIPTIONS &lt;int&gt; | SHIPPING.TYPE &lt;int&gt; | DISCOUNT.APPLIED &lt;int&gt; | PROMO_CODE_USED &lt;int&gt; | PREVIOUS.PURCHASES &lt;int&gt; | PAYMENT.METHOD &lt;int&gt; | FREQUENCY.OF.PURCHASES &lt;int&gt; |\n|---|---|---|---|---|---|---|---|---|---|---|---|---|---|---|---|---|---|---|\n| 1 | 1 | 55 | 0 | 0 | 0 | 53 | 0 | 0 | 0 | 0 | 3.1 | 0 | 0 | 0 | 0 | 14 | 0 | 0 |\n| 2 | 2 | 19 | 0 | 1 | 0 | 64 | 1 | 0 | 1 | 0 | 3.1 | 0 | 0 | 0 | 0 |  2 | 1 | 0 |\n| 3 | 3 | 50 | 0 | 2 | 0 | 73 | 2 | 1 | 1 | 1 | 3.1 | 0 | 1 | 0 | 0 | 23 | 2 | 1 |\n| 4 | 4 | 21 | 0 | 3 | 1 | 90 | 3 | 2 | 1 | 1 | 3.5 | 0 | 2 | 0 | 0 | 49 | 3 | 1 |\n| 5 | 5 | 45 | 0 | 0 | 0 | 49 | 4 | 2 | 2 | 1 | 2.7 | 0 | 1 | 0 | 0 | 31 | 3 | 2 |\n| 6 | 6 | 46 | 0 | 4 | 1 | 20 | 5 | 2 | 3 | 2 | 2.9 | 0 | 3 | 0 | 0 | 14 | 0 | 1 |\n\n",
            "text/latex": "A data.frame: 6 × 18\n\\begin{tabular}{r|llllllllllllllllll}\n  & CUSTOMER.ID & AGE & GENDER & ITEM.PURCHASED & CATEGORY & PURCHASE.AMOUNT & LOCATION & SIZE & COLOR & SEASON & REVIEW.RATE & SUBSCRIPTIONS & SHIPPING.TYPE & DISCOUNT.APPLIED & PROMO\\_CODE\\_USED & PREVIOUS.PURCHASES & PAYMENT.METHOD & FREQUENCY.OF.PURCHASES\\\\\n  & <int> & <int> & <int> & <int> & <int> & <int> & <int> & <int> & <int> & <int> & <dbl> & <int> & <int> & <int> & <int> & <int> & <int> & <int>\\\\\n\\hline\n\t1 & 1 & 55 & 0 & 0 & 0 & 53 & 0 & 0 & 0 & 0 & 3.1 & 0 & 0 & 0 & 0 & 14 & 0 & 0\\\\\n\t2 & 2 & 19 & 0 & 1 & 0 & 64 & 1 & 0 & 1 & 0 & 3.1 & 0 & 0 & 0 & 0 &  2 & 1 & 0\\\\\n\t3 & 3 & 50 & 0 & 2 & 0 & 73 & 2 & 1 & 1 & 1 & 3.1 & 0 & 1 & 0 & 0 & 23 & 2 & 1\\\\\n\t4 & 4 & 21 & 0 & 3 & 1 & 90 & 3 & 2 & 1 & 1 & 3.5 & 0 & 2 & 0 & 0 & 49 & 3 & 1\\\\\n\t5 & 5 & 45 & 0 & 0 & 0 & 49 & 4 & 2 & 2 & 1 & 2.7 & 0 & 1 & 0 & 0 & 31 & 3 & 2\\\\\n\t6 & 6 & 46 & 0 & 4 & 1 & 20 & 5 & 2 & 3 & 2 & 2.9 & 0 & 3 & 0 & 0 & 14 & 0 & 1\\\\\n\\end{tabular}\n",
            "text/plain": [
              "  CUSTOMER.ID AGE GENDER ITEM.PURCHASED CATEGORY PURCHASE.AMOUNT LOCATION SIZE\n",
              "1 1           55  0      0              0        53              0        0   \n",
              "2 2           19  0      1              0        64              1        0   \n",
              "3 3           50  0      2              0        73              2        1   \n",
              "4 4           21  0      3              1        90              3        2   \n",
              "5 5           45  0      0              0        49              4        2   \n",
              "6 6           46  0      4              1        20              5        2   \n",
              "  COLOR SEASON REVIEW.RATE SUBSCRIPTIONS SHIPPING.TYPE DISCOUNT.APPLIED\n",
              "1 0     0      3.1         0             0             0               \n",
              "2 1     0      3.1         0             0             0               \n",
              "3 1     1      3.1         0             1             0               \n",
              "4 1     1      3.5         0             2             0               \n",
              "5 2     1      2.7         0             1             0               \n",
              "6 3     2      2.9         0             3             0               \n",
              "  PROMO_CODE_USED PREVIOUS.PURCHASES PAYMENT.METHOD FREQUENCY.OF.PURCHASES\n",
              "1 0               14                 0              0                     \n",
              "2 0                2                 1              0                     \n",
              "3 0               23                 2              1                     \n",
              "4 0               49                 3              1                     \n",
              "5 0               31                 3              2                     \n",
              "6 0               14                 0              1                     "
            ]
          },
          "metadata": {}
        }
      ]
    },
    {
      "cell_type": "markdown",
      "source": [],
      "metadata": {
        "id": "ijEMMC7bVpRZ"
      }
    },
    {
      "cell_type": "code",
      "source": [
        "# Display correlation matrix\n",
        "cor_matrix <- cor(df)\n",
        "cor_matrix"
      ],
      "metadata": {
        "colab": {
          "base_uri": "https://localhost:8080/",
          "height": 651
        },
        "id": "Ipx0BwpFEc0m",
        "outputId": "10b4182d-49c5-4d6c-94e9-fe0875cf99ea"
      },
      "execution_count": 6,
      "outputs": [
        {
          "output_type": "display_data",
          "data": {
            "text/html": [
              "<table class=\"dataframe\">\n",
              "<caption>A matrix: 18 × 18 of type dbl</caption>\n",
              "<thead>\n",
              "\t<tr><th></th><th scope=col>CUSTOMER.ID</th><th scope=col>AGE</th><th scope=col>GENDER</th><th scope=col>ITEM.PURCHASED</th><th scope=col>CATEGORY</th><th scope=col>PURCHASE.AMOUNT</th><th scope=col>LOCATION</th><th scope=col>SIZE</th><th scope=col>COLOR</th><th scope=col>SEASON</th><th scope=col>REVIEW.RATE</th><th scope=col>SUBSCRIPTIONS</th><th scope=col>SHIPPING.TYPE</th><th scope=col>DISCOUNT.APPLIED</th><th scope=col>PROMO_CODE_USED</th><th scope=col>PREVIOUS.PURCHASES</th><th scope=col>PAYMENT.METHOD</th><th scope=col>FREQUENCY.OF.PURCHASES</th></tr>\n",
              "</thead>\n",
              "<tbody>\n",
              "\t<tr><th scope=row>CUSTOMER.ID</th><td> 1.000000000</td><td>-0.004078574</td><td> 0.807960422</td><td>-0.003119671</td><td>-0.007119867</td><td> 0.011047801</td><td> 0.025650602</td><td> 0.019584815</td><td> 0.010546516</td><td> 0.013730841</td><td> 0.001343012</td><td> 0.768960362</td><td>-0.002565024</td><td> 0.857496384</td><td> 0.857496384</td><td>-0.039158526</td><td>-0.010510315</td><td> 0.018919373</td></tr>\n",
              "\t<tr><th scope=row>AGE</th><td>-0.004078574</td><td> 1.000000000</td><td>-0.002763261</td><td> 0.003797920</td><td> 0.012336349</td><td>-0.010423647</td><td> 0.002397486</td><td>-0.021007726</td><td>-0.019860983</td><td> 0.019300493</td><td>-0.021949148</td><td>-0.006491647</td><td>-0.022290602</td><td>-0.004366296</td><td>-0.004366296</td><td> 0.040444531</td><td> 0.001963116</td><td>-0.013304658</td></tr>\n",
              "\t<tr><th scope=row>GENDER</th><td> 0.807960422</td><td>-0.002763261</td><td> 1.000000000</td><td>-0.009858613</td><td>-0.005205720</td><td> 0.014044098</td><td> 0.016179818</td><td> 0.011982914</td><td> 0.006721157</td><td> 0.014328538</td><td>-0.008163790</td><td> 0.417196816</td><td>-0.010669697</td><td> 0.595823095</td><td> 0.595823095</td><td>-0.035872605</td><td>-0.018432871</td><td> 0.015580428</td></tr>\n",
              "\t<tr><th scope=row>ITEM.PURCHASED</th><td>-0.003119671</td><td> 0.003797920</td><td>-0.009858613</td><td> 1.000000000</td><td> 0.493024184</td><td> 0.014553589</td><td> 0.022297922</td><td> 0.011719635</td><td> 0.017113237</td><td> 0.019270203</td><td> 0.030357957</td><td> 0.002254828</td><td> 0.005042345</td><td>-0.007766058</td><td>-0.007766058</td><td> 0.005103386</td><td> 0.009739294</td><td> 0.001377600</td></tr>\n",
              "\t<tr><th scope=row>CATEGORY</th><td>-0.007119867</td><td> 0.012336349</td><td>-0.005205720</td><td> 0.493024184</td><td> 1.000000000</td><td>-0.009137523</td><td> 0.001466888</td><td> 0.013898561</td><td> 0.030885758</td><td> 0.024791782</td><td> 0.025051585</td><td>-0.006116087</td><td> 0.013916451</td><td>-0.015846604</td><td>-0.015846604</td><td> 0.014390517</td><td>-0.014297639</td><td>-0.013978233</td></tr>\n",
              "\t<tr><th scope=row>PURCHASE.AMOUNT</th><td> 0.011047801</td><td>-0.010423647</td><td> 0.014044098</td><td> 0.014553589</td><td>-0.009137523</td><td> 1.000000000</td><td> 0.015880736</td><td> 0.019765879</td><td>-0.017646738</td><td> 0.015717864</td><td> 0.030775923</td><td> 0.006996041</td><td>-0.004691885</td><td> 0.017798055</td><td> 0.017798055</td><td> 0.008063412</td><td> 0.018268281</td><td> 0.012782056</td></tr>\n",
              "\t<tr><th scope=row>LOCATION</th><td> 0.025650602</td><td> 0.002397486</td><td> 0.016179818</td><td> 0.022297922</td><td> 0.001466888</td><td> 0.015880736</td><td> 1.000000000</td><td> 0.014324087</td><td>-0.021147572</td><td> 0.048918472</td><td> 0.009275515</td><td> 0.025651650</td><td> 0.016207264</td><td> 0.009819277</td><td> 0.009819277</td><td> 0.004228303</td><td>-0.026079625</td><td> 0.010243644</td></tr>\n",
              "\t<tr><th scope=row>SIZE</th><td> 0.019584815</td><td>-0.021007726</td><td> 0.011982914</td><td> 0.011719635</td><td> 0.013898561</td><td> 0.019765879</td><td> 0.014324087</td><td> 1.000000000</td><td>-0.012425287</td><td>-0.001055839</td><td>-0.004124729</td><td> 0.011666577</td><td>-0.008475597</td><td> 0.016469896</td><td> 0.016469896</td><td>-0.005101483</td><td>-0.010823916</td><td>-0.033007943</td></tr>\n",
              "\t<tr><th scope=row>COLOR</th><td> 0.010546516</td><td>-0.019860983</td><td> 0.006721157</td><td> 0.017113237</td><td> 0.030885758</td><td>-0.017646738</td><td>-0.021147572</td><td>-0.012425287</td><td> 1.000000000</td><td> 0.021034061</td><td>-0.027372981</td><td> 0.016708773</td><td> 0.037436323</td><td> 0.012177965</td><td> 0.012177965</td><td>-0.031819831</td><td> 0.016825976</td><td>-0.001120297</td></tr>\n",
              "\t<tr><th scope=row>SEASON</th><td> 0.013730841</td><td> 0.019300493</td><td> 0.014328538</td><td> 0.019270203</td><td> 0.024791782</td><td> 0.015717864</td><td> 0.048918472</td><td>-0.001055839</td><td> 0.021034061</td><td> 1.000000000</td><td>-0.020609336</td><td>-0.008696062</td><td>-0.012341394</td><td> 0.014659871</td><td> 0.014659871</td><td>-0.019732959</td><td>-0.011918030</td><td> 0.001265093</td></tr>\n",
              "\t<tr><th scope=row>REVIEW.RATE</th><td> 0.001343012</td><td>-0.021949148</td><td>-0.008163790</td><td> 0.030357957</td><td> 0.025051585</td><td> 0.030775923</td><td> 0.009275515</td><td>-0.004124729</td><td>-0.027372981</td><td>-0.020609336</td><td> 1.000000000</td><td> 0.006368054</td><td>-0.008341976</td><td> 0.012485694</td><td> 0.012485694</td><td> 0.004229099</td><td>-0.009156311</td><td> 0.002461454</td></tr>\n",
              "\t<tr><th scope=row>SUBSCRIPTIONS</th><td> 0.768960362</td><td>-0.006491647</td><td> 0.417196816</td><td> 0.002254828</td><td>-0.006116087</td><td> 0.006996041</td><td> 0.025651650</td><td> 0.011666577</td><td> 0.016708773</td><td>-0.008696062</td><td> 0.006368054</td><td> 1.000000000</td><td> 0.005608806</td><td> 0.700202492</td><td> 0.700202492</td><td>-0.030859436</td><td>-0.012917523</td><td> 0.019577224</td></tr>\n",
              "\t<tr><th scope=row>SHIPPING.TYPE</th><td>-0.002565024</td><td>-0.022290602</td><td>-0.010669697</td><td> 0.005042345</td><td> 0.013916451</td><td>-0.004691885</td><td> 0.016207264</td><td>-0.008475597</td><td> 0.037436323</td><td>-0.012341394</td><td>-0.008341976</td><td> 0.005608806</td><td> 1.000000000</td><td>-0.000264082</td><td>-0.000264082</td><td> 0.007014237</td><td>-0.001616580</td><td> 0.003413320</td></tr>\n",
              "\t<tr><th scope=row>DISCOUNT.APPLIED</th><td> 0.857496384</td><td>-0.004366296</td><td> 0.595823095</td><td>-0.007766058</td><td>-0.015846604</td><td> 0.017798055</td><td> 0.009819277</td><td> 0.016469896</td><td> 0.012177965</td><td> 0.014659871</td><td> 0.012485694</td><td> 0.700202492</td><td>-0.000264082</td><td> 1.000000000</td><td> 1.000000000</td><td>-0.023537096</td><td>-0.001674950</td><td> 0.004262796</td></tr>\n",
              "\t<tr><th scope=row>PROMO_CODE_USED</th><td> 0.857496384</td><td>-0.004366296</td><td> 0.595823095</td><td>-0.007766058</td><td>-0.015846604</td><td> 0.017798055</td><td> 0.009819277</td><td> 0.016469896</td><td> 0.012177965</td><td> 0.014659871</td><td> 0.012485694</td><td> 0.700202492</td><td>-0.000264082</td><td> 1.000000000</td><td> 1.000000000</td><td>-0.023537096</td><td>-0.001674950</td><td> 0.004262796</td></tr>\n",
              "\t<tr><th scope=row>PREVIOUS.PURCHASES</th><td>-0.039158526</td><td> 0.040444531</td><td>-0.035872605</td><td> 0.005103386</td><td> 0.014390517</td><td> 0.008063412</td><td> 0.004228303</td><td>-0.005101483</td><td>-0.031819831</td><td>-0.019732959</td><td> 0.004229099</td><td>-0.030859436</td><td> 0.007014237</td><td>-0.023537096</td><td>-0.023537096</td><td> 1.000000000</td><td>-0.008812504</td><td>-0.008376819</td></tr>\n",
              "\t<tr><th scope=row>PAYMENT.METHOD</th><td>-0.010510315</td><td> 0.001963116</td><td>-0.018432871</td><td> 0.009739294</td><td>-0.014297639</td><td> 0.018268281</td><td>-0.026079625</td><td>-0.010823916</td><td> 0.016825976</td><td>-0.011918030</td><td>-0.009156311</td><td>-0.012917523</td><td>-0.001616580</td><td>-0.001674950</td><td>-0.001674950</td><td>-0.008812504</td><td> 1.000000000</td><td>-0.014309528</td></tr>\n",
              "\t<tr><th scope=row>FREQUENCY.OF.PURCHASES</th><td> 0.018919373</td><td>-0.013304658</td><td> 0.015580428</td><td> 0.001377600</td><td>-0.013978233</td><td> 0.012782056</td><td> 0.010243644</td><td>-0.033007943</td><td>-0.001120297</td><td> 0.001265093</td><td> 0.002461454</td><td> 0.019577224</td><td> 0.003413320</td><td> 0.004262796</td><td> 0.004262796</td><td>-0.008376819</td><td>-0.014309528</td><td> 1.000000000</td></tr>\n",
              "</tbody>\n",
              "</table>\n"
            ],
            "text/markdown": "\nA matrix: 18 × 18 of type dbl\n\n| <!--/--> | CUSTOMER.ID | AGE | GENDER | ITEM.PURCHASED | CATEGORY | PURCHASE.AMOUNT | LOCATION | SIZE | COLOR | SEASON | REVIEW.RATE | SUBSCRIPTIONS | SHIPPING.TYPE | DISCOUNT.APPLIED | PROMO_CODE_USED | PREVIOUS.PURCHASES | PAYMENT.METHOD | FREQUENCY.OF.PURCHASES |\n|---|---|---|---|---|---|---|---|---|---|---|---|---|---|---|---|---|---|---|\n| CUSTOMER.ID |  1.000000000 | -0.004078574 |  0.807960422 | -0.003119671 | -0.007119867 |  0.011047801 |  0.025650602 |  0.019584815 |  0.010546516 |  0.013730841 |  0.001343012 |  0.768960362 | -0.002565024 |  0.857496384 |  0.857496384 | -0.039158526 | -0.010510315 |  0.018919373 |\n| AGE | -0.004078574 |  1.000000000 | -0.002763261 |  0.003797920 |  0.012336349 | -0.010423647 |  0.002397486 | -0.021007726 | -0.019860983 |  0.019300493 | -0.021949148 | -0.006491647 | -0.022290602 | -0.004366296 | -0.004366296 |  0.040444531 |  0.001963116 | -0.013304658 |\n| GENDER |  0.807960422 | -0.002763261 |  1.000000000 | -0.009858613 | -0.005205720 |  0.014044098 |  0.016179818 |  0.011982914 |  0.006721157 |  0.014328538 | -0.008163790 |  0.417196816 | -0.010669697 |  0.595823095 |  0.595823095 | -0.035872605 | -0.018432871 |  0.015580428 |\n| ITEM.PURCHASED | -0.003119671 |  0.003797920 | -0.009858613 |  1.000000000 |  0.493024184 |  0.014553589 |  0.022297922 |  0.011719635 |  0.017113237 |  0.019270203 |  0.030357957 |  0.002254828 |  0.005042345 | -0.007766058 | -0.007766058 |  0.005103386 |  0.009739294 |  0.001377600 |\n| CATEGORY | -0.007119867 |  0.012336349 | -0.005205720 |  0.493024184 |  1.000000000 | -0.009137523 |  0.001466888 |  0.013898561 |  0.030885758 |  0.024791782 |  0.025051585 | -0.006116087 |  0.013916451 | -0.015846604 | -0.015846604 |  0.014390517 | -0.014297639 | -0.013978233 |\n| PURCHASE.AMOUNT |  0.011047801 | -0.010423647 |  0.014044098 |  0.014553589 | -0.009137523 |  1.000000000 |  0.015880736 |  0.019765879 | -0.017646738 |  0.015717864 |  0.030775923 |  0.006996041 | -0.004691885 |  0.017798055 |  0.017798055 |  0.008063412 |  0.018268281 |  0.012782056 |\n| LOCATION |  0.025650602 |  0.002397486 |  0.016179818 |  0.022297922 |  0.001466888 |  0.015880736 |  1.000000000 |  0.014324087 | -0.021147572 |  0.048918472 |  0.009275515 |  0.025651650 |  0.016207264 |  0.009819277 |  0.009819277 |  0.004228303 | -0.026079625 |  0.010243644 |\n| SIZE |  0.019584815 | -0.021007726 |  0.011982914 |  0.011719635 |  0.013898561 |  0.019765879 |  0.014324087 |  1.000000000 | -0.012425287 | -0.001055839 | -0.004124729 |  0.011666577 | -0.008475597 |  0.016469896 |  0.016469896 | -0.005101483 | -0.010823916 | -0.033007943 |\n| COLOR |  0.010546516 | -0.019860983 |  0.006721157 |  0.017113237 |  0.030885758 | -0.017646738 | -0.021147572 | -0.012425287 |  1.000000000 |  0.021034061 | -0.027372981 |  0.016708773 |  0.037436323 |  0.012177965 |  0.012177965 | -0.031819831 |  0.016825976 | -0.001120297 |\n| SEASON |  0.013730841 |  0.019300493 |  0.014328538 |  0.019270203 |  0.024791782 |  0.015717864 |  0.048918472 | -0.001055839 |  0.021034061 |  1.000000000 | -0.020609336 | -0.008696062 | -0.012341394 |  0.014659871 |  0.014659871 | -0.019732959 | -0.011918030 |  0.001265093 |\n| REVIEW.RATE |  0.001343012 | -0.021949148 | -0.008163790 |  0.030357957 |  0.025051585 |  0.030775923 |  0.009275515 | -0.004124729 | -0.027372981 | -0.020609336 |  1.000000000 |  0.006368054 | -0.008341976 |  0.012485694 |  0.012485694 |  0.004229099 | -0.009156311 |  0.002461454 |\n| SUBSCRIPTIONS |  0.768960362 | -0.006491647 |  0.417196816 |  0.002254828 | -0.006116087 |  0.006996041 |  0.025651650 |  0.011666577 |  0.016708773 | -0.008696062 |  0.006368054 |  1.000000000 |  0.005608806 |  0.700202492 |  0.700202492 | -0.030859436 | -0.012917523 |  0.019577224 |\n| SHIPPING.TYPE | -0.002565024 | -0.022290602 | -0.010669697 |  0.005042345 |  0.013916451 | -0.004691885 |  0.016207264 | -0.008475597 |  0.037436323 | -0.012341394 | -0.008341976 |  0.005608806 |  1.000000000 | -0.000264082 | -0.000264082 |  0.007014237 | -0.001616580 |  0.003413320 |\n| DISCOUNT.APPLIED |  0.857496384 | -0.004366296 |  0.595823095 | -0.007766058 | -0.015846604 |  0.017798055 |  0.009819277 |  0.016469896 |  0.012177965 |  0.014659871 |  0.012485694 |  0.700202492 | -0.000264082 |  1.000000000 |  1.000000000 | -0.023537096 | -0.001674950 |  0.004262796 |\n| PROMO_CODE_USED |  0.857496384 | -0.004366296 |  0.595823095 | -0.007766058 | -0.015846604 |  0.017798055 |  0.009819277 |  0.016469896 |  0.012177965 |  0.014659871 |  0.012485694 |  0.700202492 | -0.000264082 |  1.000000000 |  1.000000000 | -0.023537096 | -0.001674950 |  0.004262796 |\n| PREVIOUS.PURCHASES | -0.039158526 |  0.040444531 | -0.035872605 |  0.005103386 |  0.014390517 |  0.008063412 |  0.004228303 | -0.005101483 | -0.031819831 | -0.019732959 |  0.004229099 | -0.030859436 |  0.007014237 | -0.023537096 | -0.023537096 |  1.000000000 | -0.008812504 | -0.008376819 |\n| PAYMENT.METHOD | -0.010510315 |  0.001963116 | -0.018432871 |  0.009739294 | -0.014297639 |  0.018268281 | -0.026079625 | -0.010823916 |  0.016825976 | -0.011918030 | -0.009156311 | -0.012917523 | -0.001616580 | -0.001674950 | -0.001674950 | -0.008812504 |  1.000000000 | -0.014309528 |\n| FREQUENCY.OF.PURCHASES |  0.018919373 | -0.013304658 |  0.015580428 |  0.001377600 | -0.013978233 |  0.012782056 |  0.010243644 | -0.033007943 | -0.001120297 |  0.001265093 |  0.002461454 |  0.019577224 |  0.003413320 |  0.004262796 |  0.004262796 | -0.008376819 | -0.014309528 |  1.000000000 |\n\n",
            "text/latex": "A matrix: 18 × 18 of type dbl\n\\begin{tabular}{r|llllllllllllllllll}\n  & CUSTOMER.ID & AGE & GENDER & ITEM.PURCHASED & CATEGORY & PURCHASE.AMOUNT & LOCATION & SIZE & COLOR & SEASON & REVIEW.RATE & SUBSCRIPTIONS & SHIPPING.TYPE & DISCOUNT.APPLIED & PROMO\\_CODE\\_USED & PREVIOUS.PURCHASES & PAYMENT.METHOD & FREQUENCY.OF.PURCHASES\\\\\n\\hline\n\tCUSTOMER.ID &  1.000000000 & -0.004078574 &  0.807960422 & -0.003119671 & -0.007119867 &  0.011047801 &  0.025650602 &  0.019584815 &  0.010546516 &  0.013730841 &  0.001343012 &  0.768960362 & -0.002565024 &  0.857496384 &  0.857496384 & -0.039158526 & -0.010510315 &  0.018919373\\\\\n\tAGE & -0.004078574 &  1.000000000 & -0.002763261 &  0.003797920 &  0.012336349 & -0.010423647 &  0.002397486 & -0.021007726 & -0.019860983 &  0.019300493 & -0.021949148 & -0.006491647 & -0.022290602 & -0.004366296 & -0.004366296 &  0.040444531 &  0.001963116 & -0.013304658\\\\\n\tGENDER &  0.807960422 & -0.002763261 &  1.000000000 & -0.009858613 & -0.005205720 &  0.014044098 &  0.016179818 &  0.011982914 &  0.006721157 &  0.014328538 & -0.008163790 &  0.417196816 & -0.010669697 &  0.595823095 &  0.595823095 & -0.035872605 & -0.018432871 &  0.015580428\\\\\n\tITEM.PURCHASED & -0.003119671 &  0.003797920 & -0.009858613 &  1.000000000 &  0.493024184 &  0.014553589 &  0.022297922 &  0.011719635 &  0.017113237 &  0.019270203 &  0.030357957 &  0.002254828 &  0.005042345 & -0.007766058 & -0.007766058 &  0.005103386 &  0.009739294 &  0.001377600\\\\\n\tCATEGORY & -0.007119867 &  0.012336349 & -0.005205720 &  0.493024184 &  1.000000000 & -0.009137523 &  0.001466888 &  0.013898561 &  0.030885758 &  0.024791782 &  0.025051585 & -0.006116087 &  0.013916451 & -0.015846604 & -0.015846604 &  0.014390517 & -0.014297639 & -0.013978233\\\\\n\tPURCHASE.AMOUNT &  0.011047801 & -0.010423647 &  0.014044098 &  0.014553589 & -0.009137523 &  1.000000000 &  0.015880736 &  0.019765879 & -0.017646738 &  0.015717864 &  0.030775923 &  0.006996041 & -0.004691885 &  0.017798055 &  0.017798055 &  0.008063412 &  0.018268281 &  0.012782056\\\\\n\tLOCATION &  0.025650602 &  0.002397486 &  0.016179818 &  0.022297922 &  0.001466888 &  0.015880736 &  1.000000000 &  0.014324087 & -0.021147572 &  0.048918472 &  0.009275515 &  0.025651650 &  0.016207264 &  0.009819277 &  0.009819277 &  0.004228303 & -0.026079625 &  0.010243644\\\\\n\tSIZE &  0.019584815 & -0.021007726 &  0.011982914 &  0.011719635 &  0.013898561 &  0.019765879 &  0.014324087 &  1.000000000 & -0.012425287 & -0.001055839 & -0.004124729 &  0.011666577 & -0.008475597 &  0.016469896 &  0.016469896 & -0.005101483 & -0.010823916 & -0.033007943\\\\\n\tCOLOR &  0.010546516 & -0.019860983 &  0.006721157 &  0.017113237 &  0.030885758 & -0.017646738 & -0.021147572 & -0.012425287 &  1.000000000 &  0.021034061 & -0.027372981 &  0.016708773 &  0.037436323 &  0.012177965 &  0.012177965 & -0.031819831 &  0.016825976 & -0.001120297\\\\\n\tSEASON &  0.013730841 &  0.019300493 &  0.014328538 &  0.019270203 &  0.024791782 &  0.015717864 &  0.048918472 & -0.001055839 &  0.021034061 &  1.000000000 & -0.020609336 & -0.008696062 & -0.012341394 &  0.014659871 &  0.014659871 & -0.019732959 & -0.011918030 &  0.001265093\\\\\n\tREVIEW.RATE &  0.001343012 & -0.021949148 & -0.008163790 &  0.030357957 &  0.025051585 &  0.030775923 &  0.009275515 & -0.004124729 & -0.027372981 & -0.020609336 &  1.000000000 &  0.006368054 & -0.008341976 &  0.012485694 &  0.012485694 &  0.004229099 & -0.009156311 &  0.002461454\\\\\n\tSUBSCRIPTIONS &  0.768960362 & -0.006491647 &  0.417196816 &  0.002254828 & -0.006116087 &  0.006996041 &  0.025651650 &  0.011666577 &  0.016708773 & -0.008696062 &  0.006368054 &  1.000000000 &  0.005608806 &  0.700202492 &  0.700202492 & -0.030859436 & -0.012917523 &  0.019577224\\\\\n\tSHIPPING.TYPE & -0.002565024 & -0.022290602 & -0.010669697 &  0.005042345 &  0.013916451 & -0.004691885 &  0.016207264 & -0.008475597 &  0.037436323 & -0.012341394 & -0.008341976 &  0.005608806 &  1.000000000 & -0.000264082 & -0.000264082 &  0.007014237 & -0.001616580 &  0.003413320\\\\\n\tDISCOUNT.APPLIED &  0.857496384 & -0.004366296 &  0.595823095 & -0.007766058 & -0.015846604 &  0.017798055 &  0.009819277 &  0.016469896 &  0.012177965 &  0.014659871 &  0.012485694 &  0.700202492 & -0.000264082 &  1.000000000 &  1.000000000 & -0.023537096 & -0.001674950 &  0.004262796\\\\\n\tPROMO\\_CODE\\_USED &  0.857496384 & -0.004366296 &  0.595823095 & -0.007766058 & -0.015846604 &  0.017798055 &  0.009819277 &  0.016469896 &  0.012177965 &  0.014659871 &  0.012485694 &  0.700202492 & -0.000264082 &  1.000000000 &  1.000000000 & -0.023537096 & -0.001674950 &  0.004262796\\\\\n\tPREVIOUS.PURCHASES & -0.039158526 &  0.040444531 & -0.035872605 &  0.005103386 &  0.014390517 &  0.008063412 &  0.004228303 & -0.005101483 & -0.031819831 & -0.019732959 &  0.004229099 & -0.030859436 &  0.007014237 & -0.023537096 & -0.023537096 &  1.000000000 & -0.008812504 & -0.008376819\\\\\n\tPAYMENT.METHOD & -0.010510315 &  0.001963116 & -0.018432871 &  0.009739294 & -0.014297639 &  0.018268281 & -0.026079625 & -0.010823916 &  0.016825976 & -0.011918030 & -0.009156311 & -0.012917523 & -0.001616580 & -0.001674950 & -0.001674950 & -0.008812504 &  1.000000000 & -0.014309528\\\\\n\tFREQUENCY.OF.PURCHASES &  0.018919373 & -0.013304658 &  0.015580428 &  0.001377600 & -0.013978233 &  0.012782056 &  0.010243644 & -0.033007943 & -0.001120297 &  0.001265093 &  0.002461454 &  0.019577224 &  0.003413320 &  0.004262796 &  0.004262796 & -0.008376819 & -0.014309528 &  1.000000000\\\\\n\\end{tabular}\n",
            "text/plain": [
              "                       CUSTOMER.ID  AGE          GENDER       ITEM.PURCHASED\n",
              "CUSTOMER.ID             1.000000000 -0.004078574  0.807960422 -0.003119671  \n",
              "AGE                    -0.004078574  1.000000000 -0.002763261  0.003797920  \n",
              "GENDER                  0.807960422 -0.002763261  1.000000000 -0.009858613  \n",
              "ITEM.PURCHASED         -0.003119671  0.003797920 -0.009858613  1.000000000  \n",
              "CATEGORY               -0.007119867  0.012336349 -0.005205720  0.493024184  \n",
              "PURCHASE.AMOUNT         0.011047801 -0.010423647  0.014044098  0.014553589  \n",
              "LOCATION                0.025650602  0.002397486  0.016179818  0.022297922  \n",
              "SIZE                    0.019584815 -0.021007726  0.011982914  0.011719635  \n",
              "COLOR                   0.010546516 -0.019860983  0.006721157  0.017113237  \n",
              "SEASON                  0.013730841  0.019300493  0.014328538  0.019270203  \n",
              "REVIEW.RATE             0.001343012 -0.021949148 -0.008163790  0.030357957  \n",
              "SUBSCRIPTIONS           0.768960362 -0.006491647  0.417196816  0.002254828  \n",
              "SHIPPING.TYPE          -0.002565024 -0.022290602 -0.010669697  0.005042345  \n",
              "DISCOUNT.APPLIED        0.857496384 -0.004366296  0.595823095 -0.007766058  \n",
              "PROMO_CODE_USED         0.857496384 -0.004366296  0.595823095 -0.007766058  \n",
              "PREVIOUS.PURCHASES     -0.039158526  0.040444531 -0.035872605  0.005103386  \n",
              "PAYMENT.METHOD         -0.010510315  0.001963116 -0.018432871  0.009739294  \n",
              "FREQUENCY.OF.PURCHASES  0.018919373 -0.013304658  0.015580428  0.001377600  \n",
              "                       CATEGORY     PURCHASE.AMOUNT LOCATION     SIZE        \n",
              "CUSTOMER.ID            -0.007119867  0.011047801     0.025650602  0.019584815\n",
              "AGE                     0.012336349 -0.010423647     0.002397486 -0.021007726\n",
              "GENDER                 -0.005205720  0.014044098     0.016179818  0.011982914\n",
              "ITEM.PURCHASED          0.493024184  0.014553589     0.022297922  0.011719635\n",
              "CATEGORY                1.000000000 -0.009137523     0.001466888  0.013898561\n",
              "PURCHASE.AMOUNT        -0.009137523  1.000000000     0.015880736  0.019765879\n",
              "LOCATION                0.001466888  0.015880736     1.000000000  0.014324087\n",
              "SIZE                    0.013898561  0.019765879     0.014324087  1.000000000\n",
              "COLOR                   0.030885758 -0.017646738    -0.021147572 -0.012425287\n",
              "SEASON                  0.024791782  0.015717864     0.048918472 -0.001055839\n",
              "REVIEW.RATE             0.025051585  0.030775923     0.009275515 -0.004124729\n",
              "SUBSCRIPTIONS          -0.006116087  0.006996041     0.025651650  0.011666577\n",
              "SHIPPING.TYPE           0.013916451 -0.004691885     0.016207264 -0.008475597\n",
              "DISCOUNT.APPLIED       -0.015846604  0.017798055     0.009819277  0.016469896\n",
              "PROMO_CODE_USED        -0.015846604  0.017798055     0.009819277  0.016469896\n",
              "PREVIOUS.PURCHASES      0.014390517  0.008063412     0.004228303 -0.005101483\n",
              "PAYMENT.METHOD         -0.014297639  0.018268281    -0.026079625 -0.010823916\n",
              "FREQUENCY.OF.PURCHASES -0.013978233  0.012782056     0.010243644 -0.033007943\n",
              "                       COLOR        SEASON       REVIEW.RATE  SUBSCRIPTIONS\n",
              "CUSTOMER.ID             0.010546516  0.013730841  0.001343012  0.768960362 \n",
              "AGE                    -0.019860983  0.019300493 -0.021949148 -0.006491647 \n",
              "GENDER                  0.006721157  0.014328538 -0.008163790  0.417196816 \n",
              "ITEM.PURCHASED          0.017113237  0.019270203  0.030357957  0.002254828 \n",
              "CATEGORY                0.030885758  0.024791782  0.025051585 -0.006116087 \n",
              "PURCHASE.AMOUNT        -0.017646738  0.015717864  0.030775923  0.006996041 \n",
              "LOCATION               -0.021147572  0.048918472  0.009275515  0.025651650 \n",
              "SIZE                   -0.012425287 -0.001055839 -0.004124729  0.011666577 \n",
              "COLOR                   1.000000000  0.021034061 -0.027372981  0.016708773 \n",
              "SEASON                  0.021034061  1.000000000 -0.020609336 -0.008696062 \n",
              "REVIEW.RATE            -0.027372981 -0.020609336  1.000000000  0.006368054 \n",
              "SUBSCRIPTIONS           0.016708773 -0.008696062  0.006368054  1.000000000 \n",
              "SHIPPING.TYPE           0.037436323 -0.012341394 -0.008341976  0.005608806 \n",
              "DISCOUNT.APPLIED        0.012177965  0.014659871  0.012485694  0.700202492 \n",
              "PROMO_CODE_USED         0.012177965  0.014659871  0.012485694  0.700202492 \n",
              "PREVIOUS.PURCHASES     -0.031819831 -0.019732959  0.004229099 -0.030859436 \n",
              "PAYMENT.METHOD          0.016825976 -0.011918030 -0.009156311 -0.012917523 \n",
              "FREQUENCY.OF.PURCHASES -0.001120297  0.001265093  0.002461454  0.019577224 \n",
              "                       SHIPPING.TYPE DISCOUNT.APPLIED PROMO_CODE_USED\n",
              "CUSTOMER.ID            -0.002565024   0.857496384      0.857496384   \n",
              "AGE                    -0.022290602  -0.004366296     -0.004366296   \n",
              "GENDER                 -0.010669697   0.595823095      0.595823095   \n",
              "ITEM.PURCHASED          0.005042345  -0.007766058     -0.007766058   \n",
              "CATEGORY                0.013916451  -0.015846604     -0.015846604   \n",
              "PURCHASE.AMOUNT        -0.004691885   0.017798055      0.017798055   \n",
              "LOCATION                0.016207264   0.009819277      0.009819277   \n",
              "SIZE                   -0.008475597   0.016469896      0.016469896   \n",
              "COLOR                   0.037436323   0.012177965      0.012177965   \n",
              "SEASON                 -0.012341394   0.014659871      0.014659871   \n",
              "REVIEW.RATE            -0.008341976   0.012485694      0.012485694   \n",
              "SUBSCRIPTIONS           0.005608806   0.700202492      0.700202492   \n",
              "SHIPPING.TYPE           1.000000000  -0.000264082     -0.000264082   \n",
              "DISCOUNT.APPLIED       -0.000264082   1.000000000      1.000000000   \n",
              "PROMO_CODE_USED        -0.000264082   1.000000000      1.000000000   \n",
              "PREVIOUS.PURCHASES      0.007014237  -0.023537096     -0.023537096   \n",
              "PAYMENT.METHOD         -0.001616580  -0.001674950     -0.001674950   \n",
              "FREQUENCY.OF.PURCHASES  0.003413320   0.004262796      0.004262796   \n",
              "                       PREVIOUS.PURCHASES PAYMENT.METHOD FREQUENCY.OF.PURCHASES\n",
              "CUSTOMER.ID            -0.039158526       -0.010510315    0.018919373          \n",
              "AGE                     0.040444531        0.001963116   -0.013304658          \n",
              "GENDER                 -0.035872605       -0.018432871    0.015580428          \n",
              "ITEM.PURCHASED          0.005103386        0.009739294    0.001377600          \n",
              "CATEGORY                0.014390517       -0.014297639   -0.013978233          \n",
              "PURCHASE.AMOUNT         0.008063412        0.018268281    0.012782056          \n",
              "LOCATION                0.004228303       -0.026079625    0.010243644          \n",
              "SIZE                   -0.005101483       -0.010823916   -0.033007943          \n",
              "COLOR                  -0.031819831        0.016825976   -0.001120297          \n",
              "SEASON                 -0.019732959       -0.011918030    0.001265093          \n",
              "REVIEW.RATE             0.004229099       -0.009156311    0.002461454          \n",
              "SUBSCRIPTIONS          -0.030859436       -0.012917523    0.019577224          \n",
              "SHIPPING.TYPE           0.007014237       -0.001616580    0.003413320          \n",
              "DISCOUNT.APPLIED       -0.023537096       -0.001674950    0.004262796          \n",
              "PROMO_CODE_USED        -0.023537096       -0.001674950    0.004262796          \n",
              "PREVIOUS.PURCHASES      1.000000000       -0.008812504   -0.008376819          \n",
              "PAYMENT.METHOD         -0.008812504        1.000000000   -0.014309528          \n",
              "FREQUENCY.OF.PURCHASES -0.008376819       -0.014309528    1.000000000          "
            ]
          },
          "metadata": {}
        }
      ]
    },
    {
      "cell_type": "code",
      "source": [
        "# DROP CUSTOMER ID #\n",
        "\n",
        "# Specify the column to be removed\n",
        "col_to_remove <- \"CUSTOMER.ID\"\n",
        "\n",
        "# Remove the specified column\n",
        "df <- df[, !(colnames(df) %in% col_to_remove), drop = FALSE]\n",
        "\n",
        "# Display the modified data frame\n",
        "head(df)"
      ],
      "metadata": {
        "colab": {
          "base_uri": "https://localhost:8080/",
          "height": 306
        },
        "id": "DFLu_MgYdXjQ",
        "outputId": "edf2ec4b-cbef-455e-eb65-c0d9f16a63f9"
      },
      "execution_count": 7,
      "outputs": [
        {
          "output_type": "display_data",
          "data": {
            "text/html": [
              "<table class=\"dataframe\">\n",
              "<caption>A data.frame: 6 × 17</caption>\n",
              "<thead>\n",
              "\t<tr><th></th><th scope=col>AGE</th><th scope=col>GENDER</th><th scope=col>ITEM.PURCHASED</th><th scope=col>CATEGORY</th><th scope=col>PURCHASE.AMOUNT</th><th scope=col>LOCATION</th><th scope=col>SIZE</th><th scope=col>COLOR</th><th scope=col>SEASON</th><th scope=col>REVIEW.RATE</th><th scope=col>SUBSCRIPTIONS</th><th scope=col>SHIPPING.TYPE</th><th scope=col>DISCOUNT.APPLIED</th><th scope=col>PROMO_CODE_USED</th><th scope=col>PREVIOUS.PURCHASES</th><th scope=col>PAYMENT.METHOD</th><th scope=col>FREQUENCY.OF.PURCHASES</th></tr>\n",
              "\t<tr><th></th><th scope=col>&lt;int&gt;</th><th scope=col>&lt;int&gt;</th><th scope=col>&lt;int&gt;</th><th scope=col>&lt;int&gt;</th><th scope=col>&lt;int&gt;</th><th scope=col>&lt;int&gt;</th><th scope=col>&lt;int&gt;</th><th scope=col>&lt;int&gt;</th><th scope=col>&lt;int&gt;</th><th scope=col>&lt;dbl&gt;</th><th scope=col>&lt;int&gt;</th><th scope=col>&lt;int&gt;</th><th scope=col>&lt;int&gt;</th><th scope=col>&lt;int&gt;</th><th scope=col>&lt;int&gt;</th><th scope=col>&lt;int&gt;</th><th scope=col>&lt;int&gt;</th></tr>\n",
              "</thead>\n",
              "<tbody>\n",
              "\t<tr><th scope=row>1</th><td>55</td><td>0</td><td>0</td><td>0</td><td>53</td><td>0</td><td>0</td><td>0</td><td>0</td><td>3.1</td><td>0</td><td>0</td><td>0</td><td>0</td><td>14</td><td>0</td><td>0</td></tr>\n",
              "\t<tr><th scope=row>2</th><td>19</td><td>0</td><td>1</td><td>0</td><td>64</td><td>1</td><td>0</td><td>1</td><td>0</td><td>3.1</td><td>0</td><td>0</td><td>0</td><td>0</td><td> 2</td><td>1</td><td>0</td></tr>\n",
              "\t<tr><th scope=row>3</th><td>50</td><td>0</td><td>2</td><td>0</td><td>73</td><td>2</td><td>1</td><td>1</td><td>1</td><td>3.1</td><td>0</td><td>1</td><td>0</td><td>0</td><td>23</td><td>2</td><td>1</td></tr>\n",
              "\t<tr><th scope=row>4</th><td>21</td><td>0</td><td>3</td><td>1</td><td>90</td><td>3</td><td>2</td><td>1</td><td>1</td><td>3.5</td><td>0</td><td>2</td><td>0</td><td>0</td><td>49</td><td>3</td><td>1</td></tr>\n",
              "\t<tr><th scope=row>5</th><td>45</td><td>0</td><td>0</td><td>0</td><td>49</td><td>4</td><td>2</td><td>2</td><td>1</td><td>2.7</td><td>0</td><td>1</td><td>0</td><td>0</td><td>31</td><td>3</td><td>2</td></tr>\n",
              "\t<tr><th scope=row>6</th><td>46</td><td>0</td><td>4</td><td>1</td><td>20</td><td>5</td><td>2</td><td>3</td><td>2</td><td>2.9</td><td>0</td><td>3</td><td>0</td><td>0</td><td>14</td><td>0</td><td>1</td></tr>\n",
              "</tbody>\n",
              "</table>\n"
            ],
            "text/markdown": "\nA data.frame: 6 × 17\n\n| <!--/--> | AGE &lt;int&gt; | GENDER &lt;int&gt; | ITEM.PURCHASED &lt;int&gt; | CATEGORY &lt;int&gt; | PURCHASE.AMOUNT &lt;int&gt; | LOCATION &lt;int&gt; | SIZE &lt;int&gt; | COLOR &lt;int&gt; | SEASON &lt;int&gt; | REVIEW.RATE &lt;dbl&gt; | SUBSCRIPTIONS &lt;int&gt; | SHIPPING.TYPE &lt;int&gt; | DISCOUNT.APPLIED &lt;int&gt; | PROMO_CODE_USED &lt;int&gt; | PREVIOUS.PURCHASES &lt;int&gt; | PAYMENT.METHOD &lt;int&gt; | FREQUENCY.OF.PURCHASES &lt;int&gt; |\n|---|---|---|---|---|---|---|---|---|---|---|---|---|---|---|---|---|---|\n| 1 | 55 | 0 | 0 | 0 | 53 | 0 | 0 | 0 | 0 | 3.1 | 0 | 0 | 0 | 0 | 14 | 0 | 0 |\n| 2 | 19 | 0 | 1 | 0 | 64 | 1 | 0 | 1 | 0 | 3.1 | 0 | 0 | 0 | 0 |  2 | 1 | 0 |\n| 3 | 50 | 0 | 2 | 0 | 73 | 2 | 1 | 1 | 1 | 3.1 | 0 | 1 | 0 | 0 | 23 | 2 | 1 |\n| 4 | 21 | 0 | 3 | 1 | 90 | 3 | 2 | 1 | 1 | 3.5 | 0 | 2 | 0 | 0 | 49 | 3 | 1 |\n| 5 | 45 | 0 | 0 | 0 | 49 | 4 | 2 | 2 | 1 | 2.7 | 0 | 1 | 0 | 0 | 31 | 3 | 2 |\n| 6 | 46 | 0 | 4 | 1 | 20 | 5 | 2 | 3 | 2 | 2.9 | 0 | 3 | 0 | 0 | 14 | 0 | 1 |\n\n",
            "text/latex": "A data.frame: 6 × 17\n\\begin{tabular}{r|lllllllllllllllll}\n  & AGE & GENDER & ITEM.PURCHASED & CATEGORY & PURCHASE.AMOUNT & LOCATION & SIZE & COLOR & SEASON & REVIEW.RATE & SUBSCRIPTIONS & SHIPPING.TYPE & DISCOUNT.APPLIED & PROMO\\_CODE\\_USED & PREVIOUS.PURCHASES & PAYMENT.METHOD & FREQUENCY.OF.PURCHASES\\\\\n  & <int> & <int> & <int> & <int> & <int> & <int> & <int> & <int> & <int> & <dbl> & <int> & <int> & <int> & <int> & <int> & <int> & <int>\\\\\n\\hline\n\t1 & 55 & 0 & 0 & 0 & 53 & 0 & 0 & 0 & 0 & 3.1 & 0 & 0 & 0 & 0 & 14 & 0 & 0\\\\\n\t2 & 19 & 0 & 1 & 0 & 64 & 1 & 0 & 1 & 0 & 3.1 & 0 & 0 & 0 & 0 &  2 & 1 & 0\\\\\n\t3 & 50 & 0 & 2 & 0 & 73 & 2 & 1 & 1 & 1 & 3.1 & 0 & 1 & 0 & 0 & 23 & 2 & 1\\\\\n\t4 & 21 & 0 & 3 & 1 & 90 & 3 & 2 & 1 & 1 & 3.5 & 0 & 2 & 0 & 0 & 49 & 3 & 1\\\\\n\t5 & 45 & 0 & 0 & 0 & 49 & 4 & 2 & 2 & 1 & 2.7 & 0 & 1 & 0 & 0 & 31 & 3 & 2\\\\\n\t6 & 46 & 0 & 4 & 1 & 20 & 5 & 2 & 3 & 2 & 2.9 & 0 & 3 & 0 & 0 & 14 & 0 & 1\\\\\n\\end{tabular}\n",
            "text/plain": [
              "  AGE GENDER ITEM.PURCHASED CATEGORY PURCHASE.AMOUNT LOCATION SIZE COLOR SEASON\n",
              "1 55  0      0              0        53              0        0    0     0     \n",
              "2 19  0      1              0        64              1        0    1     0     \n",
              "3 50  0      2              0        73              2        1    1     1     \n",
              "4 21  0      3              1        90              3        2    1     1     \n",
              "5 45  0      0              0        49              4        2    2     1     \n",
              "6 46  0      4              1        20              5        2    3     2     \n",
              "  REVIEW.RATE SUBSCRIPTIONS SHIPPING.TYPE DISCOUNT.APPLIED PROMO_CODE_USED\n",
              "1 3.1         0             0             0                0              \n",
              "2 3.1         0             0             0                0              \n",
              "3 3.1         0             1             0                0              \n",
              "4 3.5         0             2             0                0              \n",
              "5 2.7         0             1             0                0              \n",
              "6 2.9         0             3             0                0              \n",
              "  PREVIOUS.PURCHASES PAYMENT.METHOD FREQUENCY.OF.PURCHASES\n",
              "1 14                 0              0                     \n",
              "2  2                 1              0                     \n",
              "3 23                 2              1                     \n",
              "4 49                 3              1                     \n",
              "5 31                 3              2                     \n",
              "6 14                 0              1                     "
            ]
          },
          "metadata": {}
        }
      ]
    },
    {
      "cell_type": "code",
      "source": [
        "cor_matrix <- cor(df)\n",
        "cor_matrix"
      ],
      "metadata": {
        "colab": {
          "base_uri": "https://localhost:8080/",
          "height": 619
        },
        "id": "m2rKN-RJgYOO",
        "outputId": "85578164-d56d-4060-d2c1-6f6a733685aa"
      },
      "execution_count": 8,
      "outputs": [
        {
          "output_type": "display_data",
          "data": {
            "text/html": [
              "<table class=\"dataframe\">\n",
              "<caption>A matrix: 17 × 17 of type dbl</caption>\n",
              "<thead>\n",
              "\t<tr><th></th><th scope=col>AGE</th><th scope=col>GENDER</th><th scope=col>ITEM.PURCHASED</th><th scope=col>CATEGORY</th><th scope=col>PURCHASE.AMOUNT</th><th scope=col>LOCATION</th><th scope=col>SIZE</th><th scope=col>COLOR</th><th scope=col>SEASON</th><th scope=col>REVIEW.RATE</th><th scope=col>SUBSCRIPTIONS</th><th scope=col>SHIPPING.TYPE</th><th scope=col>DISCOUNT.APPLIED</th><th scope=col>PROMO_CODE_USED</th><th scope=col>PREVIOUS.PURCHASES</th><th scope=col>PAYMENT.METHOD</th><th scope=col>FREQUENCY.OF.PURCHASES</th></tr>\n",
              "</thead>\n",
              "<tbody>\n",
              "\t<tr><th scope=row>AGE</th><td> 1.000000000</td><td>-0.002763261</td><td> 0.003797920</td><td> 0.012336349</td><td>-0.010423647</td><td> 0.002397486</td><td>-0.021007726</td><td>-0.019860983</td><td> 0.019300493</td><td>-0.021949148</td><td>-0.006491647</td><td>-0.022290602</td><td>-0.004366296</td><td>-0.004366296</td><td> 0.040444531</td><td> 0.001963116</td><td>-0.013304658</td></tr>\n",
              "\t<tr><th scope=row>GENDER</th><td>-0.002763261</td><td> 1.000000000</td><td>-0.009858613</td><td>-0.005205720</td><td> 0.014044098</td><td> 0.016179818</td><td> 0.011982914</td><td> 0.006721157</td><td> 0.014328538</td><td>-0.008163790</td><td> 0.417196816</td><td>-0.010669697</td><td> 0.595823095</td><td> 0.595823095</td><td>-0.035872605</td><td>-0.018432871</td><td> 0.015580428</td></tr>\n",
              "\t<tr><th scope=row>ITEM.PURCHASED</th><td> 0.003797920</td><td>-0.009858613</td><td> 1.000000000</td><td> 0.493024184</td><td> 0.014553589</td><td> 0.022297922</td><td> 0.011719635</td><td> 0.017113237</td><td> 0.019270203</td><td> 0.030357957</td><td> 0.002254828</td><td> 0.005042345</td><td>-0.007766058</td><td>-0.007766058</td><td> 0.005103386</td><td> 0.009739294</td><td> 0.001377600</td></tr>\n",
              "\t<tr><th scope=row>CATEGORY</th><td> 0.012336349</td><td>-0.005205720</td><td> 0.493024184</td><td> 1.000000000</td><td>-0.009137523</td><td> 0.001466888</td><td> 0.013898561</td><td> 0.030885758</td><td> 0.024791782</td><td> 0.025051585</td><td>-0.006116087</td><td> 0.013916451</td><td>-0.015846604</td><td>-0.015846604</td><td> 0.014390517</td><td>-0.014297639</td><td>-0.013978233</td></tr>\n",
              "\t<tr><th scope=row>PURCHASE.AMOUNT</th><td>-0.010423647</td><td> 0.014044098</td><td> 0.014553589</td><td>-0.009137523</td><td> 1.000000000</td><td> 0.015880736</td><td> 0.019765879</td><td>-0.017646738</td><td> 0.015717864</td><td> 0.030775923</td><td> 0.006996041</td><td>-0.004691885</td><td> 0.017798055</td><td> 0.017798055</td><td> 0.008063412</td><td> 0.018268281</td><td> 0.012782056</td></tr>\n",
              "\t<tr><th scope=row>LOCATION</th><td> 0.002397486</td><td> 0.016179818</td><td> 0.022297922</td><td> 0.001466888</td><td> 0.015880736</td><td> 1.000000000</td><td> 0.014324087</td><td>-0.021147572</td><td> 0.048918472</td><td> 0.009275515</td><td> 0.025651650</td><td> 0.016207264</td><td> 0.009819277</td><td> 0.009819277</td><td> 0.004228303</td><td>-0.026079625</td><td> 0.010243644</td></tr>\n",
              "\t<tr><th scope=row>SIZE</th><td>-0.021007726</td><td> 0.011982914</td><td> 0.011719635</td><td> 0.013898561</td><td> 0.019765879</td><td> 0.014324087</td><td> 1.000000000</td><td>-0.012425287</td><td>-0.001055839</td><td>-0.004124729</td><td> 0.011666577</td><td>-0.008475597</td><td> 0.016469896</td><td> 0.016469896</td><td>-0.005101483</td><td>-0.010823916</td><td>-0.033007943</td></tr>\n",
              "\t<tr><th scope=row>COLOR</th><td>-0.019860983</td><td> 0.006721157</td><td> 0.017113237</td><td> 0.030885758</td><td>-0.017646738</td><td>-0.021147572</td><td>-0.012425287</td><td> 1.000000000</td><td> 0.021034061</td><td>-0.027372981</td><td> 0.016708773</td><td> 0.037436323</td><td> 0.012177965</td><td> 0.012177965</td><td>-0.031819831</td><td> 0.016825976</td><td>-0.001120297</td></tr>\n",
              "\t<tr><th scope=row>SEASON</th><td> 0.019300493</td><td> 0.014328538</td><td> 0.019270203</td><td> 0.024791782</td><td> 0.015717864</td><td> 0.048918472</td><td>-0.001055839</td><td> 0.021034061</td><td> 1.000000000</td><td>-0.020609336</td><td>-0.008696062</td><td>-0.012341394</td><td> 0.014659871</td><td> 0.014659871</td><td>-0.019732959</td><td>-0.011918030</td><td> 0.001265093</td></tr>\n",
              "\t<tr><th scope=row>REVIEW.RATE</th><td>-0.021949148</td><td>-0.008163790</td><td> 0.030357957</td><td> 0.025051585</td><td> 0.030775923</td><td> 0.009275515</td><td>-0.004124729</td><td>-0.027372981</td><td>-0.020609336</td><td> 1.000000000</td><td> 0.006368054</td><td>-0.008341976</td><td> 0.012485694</td><td> 0.012485694</td><td> 0.004229099</td><td>-0.009156311</td><td> 0.002461454</td></tr>\n",
              "\t<tr><th scope=row>SUBSCRIPTIONS</th><td>-0.006491647</td><td> 0.417196816</td><td> 0.002254828</td><td>-0.006116087</td><td> 0.006996041</td><td> 0.025651650</td><td> 0.011666577</td><td> 0.016708773</td><td>-0.008696062</td><td> 0.006368054</td><td> 1.000000000</td><td> 0.005608806</td><td> 0.700202492</td><td> 0.700202492</td><td>-0.030859436</td><td>-0.012917523</td><td> 0.019577224</td></tr>\n",
              "\t<tr><th scope=row>SHIPPING.TYPE</th><td>-0.022290602</td><td>-0.010669697</td><td> 0.005042345</td><td> 0.013916451</td><td>-0.004691885</td><td> 0.016207264</td><td>-0.008475597</td><td> 0.037436323</td><td>-0.012341394</td><td>-0.008341976</td><td> 0.005608806</td><td> 1.000000000</td><td>-0.000264082</td><td>-0.000264082</td><td> 0.007014237</td><td>-0.001616580</td><td> 0.003413320</td></tr>\n",
              "\t<tr><th scope=row>DISCOUNT.APPLIED</th><td>-0.004366296</td><td> 0.595823095</td><td>-0.007766058</td><td>-0.015846604</td><td> 0.017798055</td><td> 0.009819277</td><td> 0.016469896</td><td> 0.012177965</td><td> 0.014659871</td><td> 0.012485694</td><td> 0.700202492</td><td>-0.000264082</td><td> 1.000000000</td><td> 1.000000000</td><td>-0.023537096</td><td>-0.001674950</td><td> 0.004262796</td></tr>\n",
              "\t<tr><th scope=row>PROMO_CODE_USED</th><td>-0.004366296</td><td> 0.595823095</td><td>-0.007766058</td><td>-0.015846604</td><td> 0.017798055</td><td> 0.009819277</td><td> 0.016469896</td><td> 0.012177965</td><td> 0.014659871</td><td> 0.012485694</td><td> 0.700202492</td><td>-0.000264082</td><td> 1.000000000</td><td> 1.000000000</td><td>-0.023537096</td><td>-0.001674950</td><td> 0.004262796</td></tr>\n",
              "\t<tr><th scope=row>PREVIOUS.PURCHASES</th><td> 0.040444531</td><td>-0.035872605</td><td> 0.005103386</td><td> 0.014390517</td><td> 0.008063412</td><td> 0.004228303</td><td>-0.005101483</td><td>-0.031819831</td><td>-0.019732959</td><td> 0.004229099</td><td>-0.030859436</td><td> 0.007014237</td><td>-0.023537096</td><td>-0.023537096</td><td> 1.000000000</td><td>-0.008812504</td><td>-0.008376819</td></tr>\n",
              "\t<tr><th scope=row>PAYMENT.METHOD</th><td> 0.001963116</td><td>-0.018432871</td><td> 0.009739294</td><td>-0.014297639</td><td> 0.018268281</td><td>-0.026079625</td><td>-0.010823916</td><td> 0.016825976</td><td>-0.011918030</td><td>-0.009156311</td><td>-0.012917523</td><td>-0.001616580</td><td>-0.001674950</td><td>-0.001674950</td><td>-0.008812504</td><td> 1.000000000</td><td>-0.014309528</td></tr>\n",
              "\t<tr><th scope=row>FREQUENCY.OF.PURCHASES</th><td>-0.013304658</td><td> 0.015580428</td><td> 0.001377600</td><td>-0.013978233</td><td> 0.012782056</td><td> 0.010243644</td><td>-0.033007943</td><td>-0.001120297</td><td> 0.001265093</td><td> 0.002461454</td><td> 0.019577224</td><td> 0.003413320</td><td> 0.004262796</td><td> 0.004262796</td><td>-0.008376819</td><td>-0.014309528</td><td> 1.000000000</td></tr>\n",
              "</tbody>\n",
              "</table>\n"
            ],
            "text/markdown": "\nA matrix: 17 × 17 of type dbl\n\n| <!--/--> | AGE | GENDER | ITEM.PURCHASED | CATEGORY | PURCHASE.AMOUNT | LOCATION | SIZE | COLOR | SEASON | REVIEW.RATE | SUBSCRIPTIONS | SHIPPING.TYPE | DISCOUNT.APPLIED | PROMO_CODE_USED | PREVIOUS.PURCHASES | PAYMENT.METHOD | FREQUENCY.OF.PURCHASES |\n|---|---|---|---|---|---|---|---|---|---|---|---|---|---|---|---|---|---|\n| AGE |  1.000000000 | -0.002763261 |  0.003797920 |  0.012336349 | -0.010423647 |  0.002397486 | -0.021007726 | -0.019860983 |  0.019300493 | -0.021949148 | -0.006491647 | -0.022290602 | -0.004366296 | -0.004366296 |  0.040444531 |  0.001963116 | -0.013304658 |\n| GENDER | -0.002763261 |  1.000000000 | -0.009858613 | -0.005205720 |  0.014044098 |  0.016179818 |  0.011982914 |  0.006721157 |  0.014328538 | -0.008163790 |  0.417196816 | -0.010669697 |  0.595823095 |  0.595823095 | -0.035872605 | -0.018432871 |  0.015580428 |\n| ITEM.PURCHASED |  0.003797920 | -0.009858613 |  1.000000000 |  0.493024184 |  0.014553589 |  0.022297922 |  0.011719635 |  0.017113237 |  0.019270203 |  0.030357957 |  0.002254828 |  0.005042345 | -0.007766058 | -0.007766058 |  0.005103386 |  0.009739294 |  0.001377600 |\n| CATEGORY |  0.012336349 | -0.005205720 |  0.493024184 |  1.000000000 | -0.009137523 |  0.001466888 |  0.013898561 |  0.030885758 |  0.024791782 |  0.025051585 | -0.006116087 |  0.013916451 | -0.015846604 | -0.015846604 |  0.014390517 | -0.014297639 | -0.013978233 |\n| PURCHASE.AMOUNT | -0.010423647 |  0.014044098 |  0.014553589 | -0.009137523 |  1.000000000 |  0.015880736 |  0.019765879 | -0.017646738 |  0.015717864 |  0.030775923 |  0.006996041 | -0.004691885 |  0.017798055 |  0.017798055 |  0.008063412 |  0.018268281 |  0.012782056 |\n| LOCATION |  0.002397486 |  0.016179818 |  0.022297922 |  0.001466888 |  0.015880736 |  1.000000000 |  0.014324087 | -0.021147572 |  0.048918472 |  0.009275515 |  0.025651650 |  0.016207264 |  0.009819277 |  0.009819277 |  0.004228303 | -0.026079625 |  0.010243644 |\n| SIZE | -0.021007726 |  0.011982914 |  0.011719635 |  0.013898561 |  0.019765879 |  0.014324087 |  1.000000000 | -0.012425287 | -0.001055839 | -0.004124729 |  0.011666577 | -0.008475597 |  0.016469896 |  0.016469896 | -0.005101483 | -0.010823916 | -0.033007943 |\n| COLOR | -0.019860983 |  0.006721157 |  0.017113237 |  0.030885758 | -0.017646738 | -0.021147572 | -0.012425287 |  1.000000000 |  0.021034061 | -0.027372981 |  0.016708773 |  0.037436323 |  0.012177965 |  0.012177965 | -0.031819831 |  0.016825976 | -0.001120297 |\n| SEASON |  0.019300493 |  0.014328538 |  0.019270203 |  0.024791782 |  0.015717864 |  0.048918472 | -0.001055839 |  0.021034061 |  1.000000000 | -0.020609336 | -0.008696062 | -0.012341394 |  0.014659871 |  0.014659871 | -0.019732959 | -0.011918030 |  0.001265093 |\n| REVIEW.RATE | -0.021949148 | -0.008163790 |  0.030357957 |  0.025051585 |  0.030775923 |  0.009275515 | -0.004124729 | -0.027372981 | -0.020609336 |  1.000000000 |  0.006368054 | -0.008341976 |  0.012485694 |  0.012485694 |  0.004229099 | -0.009156311 |  0.002461454 |\n| SUBSCRIPTIONS | -0.006491647 |  0.417196816 |  0.002254828 | -0.006116087 |  0.006996041 |  0.025651650 |  0.011666577 |  0.016708773 | -0.008696062 |  0.006368054 |  1.000000000 |  0.005608806 |  0.700202492 |  0.700202492 | -0.030859436 | -0.012917523 |  0.019577224 |\n| SHIPPING.TYPE | -0.022290602 | -0.010669697 |  0.005042345 |  0.013916451 | -0.004691885 |  0.016207264 | -0.008475597 |  0.037436323 | -0.012341394 | -0.008341976 |  0.005608806 |  1.000000000 | -0.000264082 | -0.000264082 |  0.007014237 | -0.001616580 |  0.003413320 |\n| DISCOUNT.APPLIED | -0.004366296 |  0.595823095 | -0.007766058 | -0.015846604 |  0.017798055 |  0.009819277 |  0.016469896 |  0.012177965 |  0.014659871 |  0.012485694 |  0.700202492 | -0.000264082 |  1.000000000 |  1.000000000 | -0.023537096 | -0.001674950 |  0.004262796 |\n| PROMO_CODE_USED | -0.004366296 |  0.595823095 | -0.007766058 | -0.015846604 |  0.017798055 |  0.009819277 |  0.016469896 |  0.012177965 |  0.014659871 |  0.012485694 |  0.700202492 | -0.000264082 |  1.000000000 |  1.000000000 | -0.023537096 | -0.001674950 |  0.004262796 |\n| PREVIOUS.PURCHASES |  0.040444531 | -0.035872605 |  0.005103386 |  0.014390517 |  0.008063412 |  0.004228303 | -0.005101483 | -0.031819831 | -0.019732959 |  0.004229099 | -0.030859436 |  0.007014237 | -0.023537096 | -0.023537096 |  1.000000000 | -0.008812504 | -0.008376819 |\n| PAYMENT.METHOD |  0.001963116 | -0.018432871 |  0.009739294 | -0.014297639 |  0.018268281 | -0.026079625 | -0.010823916 |  0.016825976 | -0.011918030 | -0.009156311 | -0.012917523 | -0.001616580 | -0.001674950 | -0.001674950 | -0.008812504 |  1.000000000 | -0.014309528 |\n| FREQUENCY.OF.PURCHASES | -0.013304658 |  0.015580428 |  0.001377600 | -0.013978233 |  0.012782056 |  0.010243644 | -0.033007943 | -0.001120297 |  0.001265093 |  0.002461454 |  0.019577224 |  0.003413320 |  0.004262796 |  0.004262796 | -0.008376819 | -0.014309528 |  1.000000000 |\n\n",
            "text/latex": "A matrix: 17 × 17 of type dbl\n\\begin{tabular}{r|lllllllllllllllll}\n  & AGE & GENDER & ITEM.PURCHASED & CATEGORY & PURCHASE.AMOUNT & LOCATION & SIZE & COLOR & SEASON & REVIEW.RATE & SUBSCRIPTIONS & SHIPPING.TYPE & DISCOUNT.APPLIED & PROMO\\_CODE\\_USED & PREVIOUS.PURCHASES & PAYMENT.METHOD & FREQUENCY.OF.PURCHASES\\\\\n\\hline\n\tAGE &  1.000000000 & -0.002763261 &  0.003797920 &  0.012336349 & -0.010423647 &  0.002397486 & -0.021007726 & -0.019860983 &  0.019300493 & -0.021949148 & -0.006491647 & -0.022290602 & -0.004366296 & -0.004366296 &  0.040444531 &  0.001963116 & -0.013304658\\\\\n\tGENDER & -0.002763261 &  1.000000000 & -0.009858613 & -0.005205720 &  0.014044098 &  0.016179818 &  0.011982914 &  0.006721157 &  0.014328538 & -0.008163790 &  0.417196816 & -0.010669697 &  0.595823095 &  0.595823095 & -0.035872605 & -0.018432871 &  0.015580428\\\\\n\tITEM.PURCHASED &  0.003797920 & -0.009858613 &  1.000000000 &  0.493024184 &  0.014553589 &  0.022297922 &  0.011719635 &  0.017113237 &  0.019270203 &  0.030357957 &  0.002254828 &  0.005042345 & -0.007766058 & -0.007766058 &  0.005103386 &  0.009739294 &  0.001377600\\\\\n\tCATEGORY &  0.012336349 & -0.005205720 &  0.493024184 &  1.000000000 & -0.009137523 &  0.001466888 &  0.013898561 &  0.030885758 &  0.024791782 &  0.025051585 & -0.006116087 &  0.013916451 & -0.015846604 & -0.015846604 &  0.014390517 & -0.014297639 & -0.013978233\\\\\n\tPURCHASE.AMOUNT & -0.010423647 &  0.014044098 &  0.014553589 & -0.009137523 &  1.000000000 &  0.015880736 &  0.019765879 & -0.017646738 &  0.015717864 &  0.030775923 &  0.006996041 & -0.004691885 &  0.017798055 &  0.017798055 &  0.008063412 &  0.018268281 &  0.012782056\\\\\n\tLOCATION &  0.002397486 &  0.016179818 &  0.022297922 &  0.001466888 &  0.015880736 &  1.000000000 &  0.014324087 & -0.021147572 &  0.048918472 &  0.009275515 &  0.025651650 &  0.016207264 &  0.009819277 &  0.009819277 &  0.004228303 & -0.026079625 &  0.010243644\\\\\n\tSIZE & -0.021007726 &  0.011982914 &  0.011719635 &  0.013898561 &  0.019765879 &  0.014324087 &  1.000000000 & -0.012425287 & -0.001055839 & -0.004124729 &  0.011666577 & -0.008475597 &  0.016469896 &  0.016469896 & -0.005101483 & -0.010823916 & -0.033007943\\\\\n\tCOLOR & -0.019860983 &  0.006721157 &  0.017113237 &  0.030885758 & -0.017646738 & -0.021147572 & -0.012425287 &  1.000000000 &  0.021034061 & -0.027372981 &  0.016708773 &  0.037436323 &  0.012177965 &  0.012177965 & -0.031819831 &  0.016825976 & -0.001120297\\\\\n\tSEASON &  0.019300493 &  0.014328538 &  0.019270203 &  0.024791782 &  0.015717864 &  0.048918472 & -0.001055839 &  0.021034061 &  1.000000000 & -0.020609336 & -0.008696062 & -0.012341394 &  0.014659871 &  0.014659871 & -0.019732959 & -0.011918030 &  0.001265093\\\\\n\tREVIEW.RATE & -0.021949148 & -0.008163790 &  0.030357957 &  0.025051585 &  0.030775923 &  0.009275515 & -0.004124729 & -0.027372981 & -0.020609336 &  1.000000000 &  0.006368054 & -0.008341976 &  0.012485694 &  0.012485694 &  0.004229099 & -0.009156311 &  0.002461454\\\\\n\tSUBSCRIPTIONS & -0.006491647 &  0.417196816 &  0.002254828 & -0.006116087 &  0.006996041 &  0.025651650 &  0.011666577 &  0.016708773 & -0.008696062 &  0.006368054 &  1.000000000 &  0.005608806 &  0.700202492 &  0.700202492 & -0.030859436 & -0.012917523 &  0.019577224\\\\\n\tSHIPPING.TYPE & -0.022290602 & -0.010669697 &  0.005042345 &  0.013916451 & -0.004691885 &  0.016207264 & -0.008475597 &  0.037436323 & -0.012341394 & -0.008341976 &  0.005608806 &  1.000000000 & -0.000264082 & -0.000264082 &  0.007014237 & -0.001616580 &  0.003413320\\\\\n\tDISCOUNT.APPLIED & -0.004366296 &  0.595823095 & -0.007766058 & -0.015846604 &  0.017798055 &  0.009819277 &  0.016469896 &  0.012177965 &  0.014659871 &  0.012485694 &  0.700202492 & -0.000264082 &  1.000000000 &  1.000000000 & -0.023537096 & -0.001674950 &  0.004262796\\\\\n\tPROMO\\_CODE\\_USED & -0.004366296 &  0.595823095 & -0.007766058 & -0.015846604 &  0.017798055 &  0.009819277 &  0.016469896 &  0.012177965 &  0.014659871 &  0.012485694 &  0.700202492 & -0.000264082 &  1.000000000 &  1.000000000 & -0.023537096 & -0.001674950 &  0.004262796\\\\\n\tPREVIOUS.PURCHASES &  0.040444531 & -0.035872605 &  0.005103386 &  0.014390517 &  0.008063412 &  0.004228303 & -0.005101483 & -0.031819831 & -0.019732959 &  0.004229099 & -0.030859436 &  0.007014237 & -0.023537096 & -0.023537096 &  1.000000000 & -0.008812504 & -0.008376819\\\\\n\tPAYMENT.METHOD &  0.001963116 & -0.018432871 &  0.009739294 & -0.014297639 &  0.018268281 & -0.026079625 & -0.010823916 &  0.016825976 & -0.011918030 & -0.009156311 & -0.012917523 & -0.001616580 & -0.001674950 & -0.001674950 & -0.008812504 &  1.000000000 & -0.014309528\\\\\n\tFREQUENCY.OF.PURCHASES & -0.013304658 &  0.015580428 &  0.001377600 & -0.013978233 &  0.012782056 &  0.010243644 & -0.033007943 & -0.001120297 &  0.001265093 &  0.002461454 &  0.019577224 &  0.003413320 &  0.004262796 &  0.004262796 & -0.008376819 & -0.014309528 &  1.000000000\\\\\n\\end{tabular}\n",
            "text/plain": [
              "                       AGE          GENDER       ITEM.PURCHASED CATEGORY    \n",
              "AGE                     1.000000000 -0.002763261  0.003797920    0.012336349\n",
              "GENDER                 -0.002763261  1.000000000 -0.009858613   -0.005205720\n",
              "ITEM.PURCHASED          0.003797920 -0.009858613  1.000000000    0.493024184\n",
              "CATEGORY                0.012336349 -0.005205720  0.493024184    1.000000000\n",
              "PURCHASE.AMOUNT        -0.010423647  0.014044098  0.014553589   -0.009137523\n",
              "LOCATION                0.002397486  0.016179818  0.022297922    0.001466888\n",
              "SIZE                   -0.021007726  0.011982914  0.011719635    0.013898561\n",
              "COLOR                  -0.019860983  0.006721157  0.017113237    0.030885758\n",
              "SEASON                  0.019300493  0.014328538  0.019270203    0.024791782\n",
              "REVIEW.RATE            -0.021949148 -0.008163790  0.030357957    0.025051585\n",
              "SUBSCRIPTIONS          -0.006491647  0.417196816  0.002254828   -0.006116087\n",
              "SHIPPING.TYPE          -0.022290602 -0.010669697  0.005042345    0.013916451\n",
              "DISCOUNT.APPLIED       -0.004366296  0.595823095 -0.007766058   -0.015846604\n",
              "PROMO_CODE_USED        -0.004366296  0.595823095 -0.007766058   -0.015846604\n",
              "PREVIOUS.PURCHASES      0.040444531 -0.035872605  0.005103386    0.014390517\n",
              "PAYMENT.METHOD          0.001963116 -0.018432871  0.009739294   -0.014297639\n",
              "FREQUENCY.OF.PURCHASES -0.013304658  0.015580428  0.001377600   -0.013978233\n",
              "                       PURCHASE.AMOUNT LOCATION     SIZE         COLOR       \n",
              "AGE                    -0.010423647     0.002397486 -0.021007726 -0.019860983\n",
              "GENDER                  0.014044098     0.016179818  0.011982914  0.006721157\n",
              "ITEM.PURCHASED          0.014553589     0.022297922  0.011719635  0.017113237\n",
              "CATEGORY               -0.009137523     0.001466888  0.013898561  0.030885758\n",
              "PURCHASE.AMOUNT         1.000000000     0.015880736  0.019765879 -0.017646738\n",
              "LOCATION                0.015880736     1.000000000  0.014324087 -0.021147572\n",
              "SIZE                    0.019765879     0.014324087  1.000000000 -0.012425287\n",
              "COLOR                  -0.017646738    -0.021147572 -0.012425287  1.000000000\n",
              "SEASON                  0.015717864     0.048918472 -0.001055839  0.021034061\n",
              "REVIEW.RATE             0.030775923     0.009275515 -0.004124729 -0.027372981\n",
              "SUBSCRIPTIONS           0.006996041     0.025651650  0.011666577  0.016708773\n",
              "SHIPPING.TYPE          -0.004691885     0.016207264 -0.008475597  0.037436323\n",
              "DISCOUNT.APPLIED        0.017798055     0.009819277  0.016469896  0.012177965\n",
              "PROMO_CODE_USED         0.017798055     0.009819277  0.016469896  0.012177965\n",
              "PREVIOUS.PURCHASES      0.008063412     0.004228303 -0.005101483 -0.031819831\n",
              "PAYMENT.METHOD          0.018268281    -0.026079625 -0.010823916  0.016825976\n",
              "FREQUENCY.OF.PURCHASES  0.012782056     0.010243644 -0.033007943 -0.001120297\n",
              "                       SEASON       REVIEW.RATE  SUBSCRIPTIONS SHIPPING.TYPE\n",
              "AGE                     0.019300493 -0.021949148 -0.006491647  -0.022290602 \n",
              "GENDER                  0.014328538 -0.008163790  0.417196816  -0.010669697 \n",
              "ITEM.PURCHASED          0.019270203  0.030357957  0.002254828   0.005042345 \n",
              "CATEGORY                0.024791782  0.025051585 -0.006116087   0.013916451 \n",
              "PURCHASE.AMOUNT         0.015717864  0.030775923  0.006996041  -0.004691885 \n",
              "LOCATION                0.048918472  0.009275515  0.025651650   0.016207264 \n",
              "SIZE                   -0.001055839 -0.004124729  0.011666577  -0.008475597 \n",
              "COLOR                   0.021034061 -0.027372981  0.016708773   0.037436323 \n",
              "SEASON                  1.000000000 -0.020609336 -0.008696062  -0.012341394 \n",
              "REVIEW.RATE            -0.020609336  1.000000000  0.006368054  -0.008341976 \n",
              "SUBSCRIPTIONS          -0.008696062  0.006368054  1.000000000   0.005608806 \n",
              "SHIPPING.TYPE          -0.012341394 -0.008341976  0.005608806   1.000000000 \n",
              "DISCOUNT.APPLIED        0.014659871  0.012485694  0.700202492  -0.000264082 \n",
              "PROMO_CODE_USED         0.014659871  0.012485694  0.700202492  -0.000264082 \n",
              "PREVIOUS.PURCHASES     -0.019732959  0.004229099 -0.030859436   0.007014237 \n",
              "PAYMENT.METHOD         -0.011918030 -0.009156311 -0.012917523  -0.001616580 \n",
              "FREQUENCY.OF.PURCHASES  0.001265093  0.002461454  0.019577224   0.003413320 \n",
              "                       DISCOUNT.APPLIED PROMO_CODE_USED PREVIOUS.PURCHASES\n",
              "AGE                    -0.004366296     -0.004366296     0.040444531      \n",
              "GENDER                  0.595823095      0.595823095    -0.035872605      \n",
              "ITEM.PURCHASED         -0.007766058     -0.007766058     0.005103386      \n",
              "CATEGORY               -0.015846604     -0.015846604     0.014390517      \n",
              "PURCHASE.AMOUNT         0.017798055      0.017798055     0.008063412      \n",
              "LOCATION                0.009819277      0.009819277     0.004228303      \n",
              "SIZE                    0.016469896      0.016469896    -0.005101483      \n",
              "COLOR                   0.012177965      0.012177965    -0.031819831      \n",
              "SEASON                  0.014659871      0.014659871    -0.019732959      \n",
              "REVIEW.RATE             0.012485694      0.012485694     0.004229099      \n",
              "SUBSCRIPTIONS           0.700202492      0.700202492    -0.030859436      \n",
              "SHIPPING.TYPE          -0.000264082     -0.000264082     0.007014237      \n",
              "DISCOUNT.APPLIED        1.000000000      1.000000000    -0.023537096      \n",
              "PROMO_CODE_USED         1.000000000      1.000000000    -0.023537096      \n",
              "PREVIOUS.PURCHASES     -0.023537096     -0.023537096     1.000000000      \n",
              "PAYMENT.METHOD         -0.001674950     -0.001674950    -0.008812504      \n",
              "FREQUENCY.OF.PURCHASES  0.004262796      0.004262796    -0.008376819      \n",
              "                       PAYMENT.METHOD FREQUENCY.OF.PURCHASES\n",
              "AGE                     0.001963116   -0.013304658          \n",
              "GENDER                 -0.018432871    0.015580428          \n",
              "ITEM.PURCHASED          0.009739294    0.001377600          \n",
              "CATEGORY               -0.014297639   -0.013978233          \n",
              "PURCHASE.AMOUNT         0.018268281    0.012782056          \n",
              "LOCATION               -0.026079625    0.010243644          \n",
              "SIZE                   -0.010823916   -0.033007943          \n",
              "COLOR                   0.016825976   -0.001120297          \n",
              "SEASON                 -0.011918030    0.001265093          \n",
              "REVIEW.RATE            -0.009156311    0.002461454          \n",
              "SUBSCRIPTIONS          -0.012917523    0.019577224          \n",
              "SHIPPING.TYPE          -0.001616580    0.003413320          \n",
              "DISCOUNT.APPLIED       -0.001674950    0.004262796          \n",
              "PROMO_CODE_USED        -0.001674950    0.004262796          \n",
              "PREVIOUS.PURCHASES     -0.008812504   -0.008376819          \n",
              "PAYMENT.METHOD          1.000000000   -0.014309528          \n",
              "FREQUENCY.OF.PURCHASES -0.014309528    1.000000000          "
            ]
          },
          "metadata": {}
        }
      ]
    },
    {
      "cell_type": "markdown",
      "source": [
        "PURCHASE AMOUNT IS DEPENDENT AND OUR OTHER FEATURES ARE INDEPENDENT VARIABLE"
      ],
      "metadata": {
        "id": "XjBP6KisO4TF"
      }
    },
    {
      "cell_type": "code",
      "source": [
        "## DECIDING FOR DEPENDENT AND INDEPENDENT VARIABLES\n",
        "output <- df$PURCHASE.AMOUNT"
      ],
      "metadata": {
        "id": "q5VGlItahjwx"
      },
      "execution_count": 9,
      "outputs": []
    },
    {
      "cell_type": "markdown",
      "source": [
        "# QUESTION 1 - A"
      ],
      "metadata": {
        "id": "wwNQIVpuRXIq"
      }
    },
    {
      "cell_type": "markdown",
      "source": [
        "Question: Train the model using 80% of this dataset and suggest an appropriate GLM to model ouput to input variables.  "
      ],
      "metadata": {
        "id": "fh6ojYoZqbQw"
      }
    },
    {
      "cell_type": "markdown",
      "source": [
        "Solution: PURCHASE.AMOUNT is Output which is continuous, and other variables are input, therefore Gaussian distribution is used. 80% of dataset is trained, 20% of dataset is tested by using Gaussian distribution."
      ],
      "metadata": {
        "id": "mUArJlKoqjjJ"
      }
    },
    {
      "cell_type": "code",
      "source": [
        "data=df\n",
        "model=glm(PURCHASE.AMOUNT~., family='gaussian', data=df)\n",
        "coef(model)\n",
        "summary(model)\n",
        "#split the dataset\n",
        "set.seed(32)\n",
        "n=nrow(data)\n",
        "indexes = sample(n,n*(80/100)) # the ratio of trainset is 80% and testset is 20%\n",
        "trainset = data[indexes,]\n",
        "testset = data[-indexes,]\n",
        "# fit the model on the trainset\n",
        "model_trained=glm(PURCHASE.AMOUNT~., family='gaussian', data=trainset)\n",
        "# predict using the testset\n",
        "pred=predict(model_trained,testset)"
      ],
      "metadata": {
        "colab": {
          "base_uri": "https://localhost:8080/",
          "height": 676
        },
        "id": "RHeItnV5Zzrt",
        "outputId": "2aaad621-4741-4b9e-8731-46eb281f97bb"
      },
      "execution_count": 10,
      "outputs": [
        {
          "output_type": "display_data",
          "data": {
            "text/html": [
              "<style>\n",
              ".dl-inline {width: auto; margin:0; padding: 0}\n",
              ".dl-inline>dt, .dl-inline>dd {float: none; width: auto; display: inline-block}\n",
              ".dl-inline>dt::after {content: \":\\0020\"; padding-right: .5ex}\n",
              ".dl-inline>dt:not(:first-of-type) {padding-left: .5ex}\n",
              "</style><dl class=dl-inline><dt>(Intercept)</dt><dd>53.5484420525961</dd><dt>AGE</dt><dd>-0.0157742367093018</dd><dt>GENDER</dt><dd>0.327250790502787</dd><dt>ITEM.PURCHASED</dt><dd>0.0774977712540088</dd><dt>CATEGORY</dt><dd>-0.37498989168066</dd><dt>LOCATION</dt><dd>0.0232208097292674</dd><dt>SIZE</dt><dd>0.46577905381256</dd><dt>COLOR</dt><dd>-0.0547193225037475</dd><dt>SEASON</dt><dd>0.342430989476553</dd><dt>REVIEW.RATE</dt><dd>0.996601608873103</dd><dt>SUBSCRIPTIONS</dt><dd>-0.540902897696359</dd><dt>SHIPPING.TYPE</dt><dd>-0.0510997600092247</dd><dt>DISCOUNT.APPLIED</dt><dd>0.965367808865181</dd><dt>PROMO_CODE_USED</dt><dd>&lt;NA&gt;</dd><dt>PREVIOUS.PURCHASES</dt><dd>0.0148487300496471</dd><dt>PAYMENT.METHOD</dt><dd>0.2712540859989</dd><dt>FREQUENCY.OF.PURCHASES</dt><dd>0.154965803480195</dd></dl>\n"
            ],
            "text/markdown": "(Intercept)\n:   53.5484420525961AGE\n:   -0.0157742367093018GENDER\n:   0.327250790502787ITEM.PURCHASED\n:   0.0774977712540088CATEGORY\n:   -0.37498989168066LOCATION\n:   0.0232208097292674SIZE\n:   0.46577905381256COLOR\n:   -0.0547193225037475SEASON\n:   0.342430989476553REVIEW.RATE\n:   0.996601608873103SUBSCRIPTIONS\n:   -0.540902897696359SHIPPING.TYPE\n:   -0.0510997600092247DISCOUNT.APPLIED\n:   0.965367808865181PROMO_CODE_USED\n:   &lt;NA&gt;PREVIOUS.PURCHASES\n:   0.0148487300496471PAYMENT.METHOD\n:   0.2712540859989FREQUENCY.OF.PURCHASES\n:   0.154965803480195\n\n",
            "text/latex": "\\begin{description*}\n\\item[(Intercept)] 53.5484420525961\n\\item[AGE] -0.0157742367093018\n\\item[GENDER] 0.327250790502787\n\\item[ITEM.PURCHASED] 0.0774977712540088\n\\item[CATEGORY] -0.37498989168066\n\\item[LOCATION] 0.0232208097292674\n\\item[SIZE] 0.46577905381256\n\\item[COLOR] -0.0547193225037475\n\\item[SEASON] 0.342430989476553\n\\item[REVIEW.RATE] 0.996601608873103\n\\item[SUBSCRIPTIONS] -0.540902897696359\n\\item[SHIPPING.TYPE] -0.0510997600092247\n\\item[DISCOUNT.APPLIED] 0.965367808865181\n\\item[PROMO\\textbackslash{}\\_CODE\\textbackslash{}\\_USED] <NA>\n\\item[PREVIOUS.PURCHASES] 0.0148487300496471\n\\item[PAYMENT.METHOD] 0.2712540859989\n\\item[FREQUENCY.OF.PURCHASES] 0.154965803480195\n\\end{description*}\n",
            "text/plain": [
              "           (Intercept)                    AGE                 GENDER \n",
              "           53.54844205            -0.01577424             0.32725079 \n",
              "        ITEM.PURCHASED               CATEGORY               LOCATION \n",
              "            0.07749777            -0.37498989             0.02322081 \n",
              "                  SIZE                  COLOR                 SEASON \n",
              "            0.46577905            -0.05471932             0.34243099 \n",
              "           REVIEW.RATE          SUBSCRIPTIONS          SHIPPING.TYPE \n",
              "            0.99660161            -0.54090290            -0.05109976 \n",
              "      DISCOUNT.APPLIED        PROMO_CODE_USED     PREVIOUS.PURCHASES \n",
              "            0.96536781                     NA             0.01484873 \n",
              "        PAYMENT.METHOD FREQUENCY.OF.PURCHASES \n",
              "            0.27125409             0.15496580 "
            ]
          },
          "metadata": {}
        },
        {
          "output_type": "display_data",
          "data": {
            "text/plain": [
              "\n",
              "Call:\n",
              "glm(formula = PURCHASE.AMOUNT ~ ., family = \"gaussian\", data = df)\n",
              "\n",
              "Coefficients: (1 not defined because of singularities)\n",
              "                       Estimate Std. Error t value Pr(>|t|)    \n",
              "(Intercept)            53.54844    2.99141  17.901   <2e-16 ***\n",
              "AGE                    -0.01577    0.02500  -0.631   0.5280    \n",
              "GENDER                  0.32725    1.01364   0.323   0.7468    \n",
              "ITEM.PURCHASED          0.07750    0.06110   1.268   0.2048    \n",
              "CATEGORY               -0.37499    0.33239  -1.128   0.2593    \n",
              "LOCATION                0.02322    0.02652   0.875   0.3814    \n",
              "SIZE                    0.46578    0.37981   1.226   0.2201    \n",
              "COLOR                  -0.05472    0.05301  -1.032   0.3020    \n",
              "SEASON                  0.34243    0.34057   1.005   0.3147    \n",
              "REVIEW.RATE             0.99660    0.53062   1.878   0.0604 .  \n",
              "SUBSCRIPTIONS          -0.54090    1.19847  -0.451   0.6518    \n",
              "SHIPPING.TYPE          -0.05110    0.22263  -0.230   0.8185    \n",
              "DISCOUNT.APPLIED        0.96537    1.21583   0.794   0.4272    \n",
              "PROMO_CODE_USED              NA         NA      NA       NA    \n",
              "PREVIOUS.PURCHASES      0.01485    0.02633   0.564   0.5728    \n",
              "PAYMENT.METHOD          0.27125    0.22457   1.208   0.2272    \n",
              "FREQUENCY.OF.PURCHASES  0.15497    0.18981   0.816   0.4143    \n",
              "---\n",
              "Signif. codes:  0 ‘***’ 0.001 ‘**’ 0.01 ‘*’ 0.05 ‘.’ 0.1 ‘ ’ 1\n",
              "\n",
              "(Dispersion parameter for gaussian family taken to be 561.0738)\n",
              "\n",
              "    Null deviance: 2187330  on 3899  degrees of freedom\n",
              "Residual deviance: 2179211  on 3884  degrees of freedom\n",
              "AIC: 35772\n",
              "\n",
              "Number of Fisher Scoring iterations: 2\n"
            ]
          },
          "metadata": {}
        }
      ]
    },
    {
      "cell_type": "markdown",
      "source": [
        "# QUESTION 1 - B"
      ],
      "metadata": {
        "id": "p8CHvzYVHEMZ"
      }
    },
    {
      "cell_type": "markdown",
      "source": [
        "  Question: Specify the significant variables on the output variable at the level of 𝛼=0.05 and explore the related hypotheses test. Estimate the parameters of your model\n",
        "\n",
        "  Solution:\n",
        "*   H0 : independence variables are not important\n",
        "*   H1 : independence variables are important\n",
        "*   if p.value < alpha H0 hypothesis is rejected\n",
        "Intercept and Review.Rate p values are smaller than significance level(𝛼)=0.05, therefor H0 null hypothesis is rejected which means Intercept and Review.Rate are important. We should use it for our linear model."
      ],
      "metadata": {
        "id": "rlAOZfEUt_cl"
      }
    },
    {
      "cell_type": "code",
      "source": [
        "#B\n",
        "\n",
        "coef(model_trained) # estimate the parameters of model\n",
        "summary(model_trained) # significant independent variables"
      ],
      "metadata": {
        "colab": {
          "base_uri": "https://localhost:8080/",
          "height": 676
        },
        "id": "fi9tPZuXF72z",
        "outputId": "9912556f-e30c-4e84-a776-7d90d21ef482"
      },
      "execution_count": 11,
      "outputs": [
        {
          "output_type": "display_data",
          "data": {
            "text/html": [
              "<style>\n",
              ".dl-inline {width: auto; margin:0; padding: 0}\n",
              ".dl-inline>dt, .dl-inline>dd {float: none; width: auto; display: inline-block}\n",
              ".dl-inline>dt::after {content: \":\\0020\"; padding-right: .5ex}\n",
              ".dl-inline>dt:not(:first-of-type) {padding-left: .5ex}\n",
              "</style><dl class=dl-inline><dt>(Intercept)</dt><dd>51.2893943045812</dd><dt>AGE</dt><dd>-0.0044853168388644</dd><dt>GENDER</dt><dd>0.654112183061433</dd><dt>ITEM.PURCHASED</dt><dd>0.0783058024316811</dd><dt>CATEGORY</dt><dd>-0.429708259486083</dd><dt>LOCATION</dt><dd>0.027995261447443</dd><dt>SIZE</dt><dd>0.242657591199365</dd><dt>COLOR</dt><dd>-0.0145334479646633</dd><dt>SEASON</dt><dd>0.0914058969852363</dd><dt>REVIEW.RATE</dt><dd>1.41651844670147</dd><dt>SUBSCRIPTIONS</dt><dd>-0.0318716772621322</dd><dt>SHIPPING.TYPE</dt><dd>0.00466550103077461</dd><dt>DISCOUNT.APPLIED</dt><dd>0.523050891168538</dd><dt>PROMO_CODE_USED</dt><dd>&lt;NA&gt;</dd><dt>PREVIOUS.PURCHASES</dt><dd>0.0248369595972019</dd><dt>PAYMENT.METHOD</dt><dd>0.229484658459365</dd><dt>FREQUENCY.OF.PURCHASES</dt><dd>0.0658977744990767</dd></dl>\n"
            ],
            "text/markdown": "(Intercept)\n:   51.2893943045812AGE\n:   -0.0044853168388644GENDER\n:   0.654112183061433ITEM.PURCHASED\n:   0.0783058024316811CATEGORY\n:   -0.429708259486083LOCATION\n:   0.027995261447443SIZE\n:   0.242657591199365COLOR\n:   -0.0145334479646633SEASON\n:   0.0914058969852363REVIEW.RATE\n:   1.41651844670147SUBSCRIPTIONS\n:   -0.0318716772621322SHIPPING.TYPE\n:   0.00466550103077461DISCOUNT.APPLIED\n:   0.523050891168538PROMO_CODE_USED\n:   &lt;NA&gt;PREVIOUS.PURCHASES\n:   0.0248369595972019PAYMENT.METHOD\n:   0.229484658459365FREQUENCY.OF.PURCHASES\n:   0.0658977744990767\n\n",
            "text/latex": "\\begin{description*}\n\\item[(Intercept)] 51.2893943045812\n\\item[AGE] -0.0044853168388644\n\\item[GENDER] 0.654112183061433\n\\item[ITEM.PURCHASED] 0.0783058024316811\n\\item[CATEGORY] -0.429708259486083\n\\item[LOCATION] 0.027995261447443\n\\item[SIZE] 0.242657591199365\n\\item[COLOR] -0.0145334479646633\n\\item[SEASON] 0.0914058969852363\n\\item[REVIEW.RATE] 1.41651844670147\n\\item[SUBSCRIPTIONS] -0.0318716772621322\n\\item[SHIPPING.TYPE] 0.00466550103077461\n\\item[DISCOUNT.APPLIED] 0.523050891168538\n\\item[PROMO\\textbackslash{}\\_CODE\\textbackslash{}\\_USED] <NA>\n\\item[PREVIOUS.PURCHASES] 0.0248369595972019\n\\item[PAYMENT.METHOD] 0.229484658459365\n\\item[FREQUENCY.OF.PURCHASES] 0.0658977744990767\n\\end{description*}\n",
            "text/plain": [
              "           (Intercept)                    AGE                 GENDER \n",
              "          51.289394305           -0.004485317            0.654112183 \n",
              "        ITEM.PURCHASED               CATEGORY               LOCATION \n",
              "           0.078305802           -0.429708259            0.027995261 \n",
              "                  SIZE                  COLOR                 SEASON \n",
              "           0.242657591           -0.014533448            0.091405897 \n",
              "           REVIEW.RATE          SUBSCRIPTIONS          SHIPPING.TYPE \n",
              "           1.416518447           -0.031871677            0.004665501 \n",
              "      DISCOUNT.APPLIED        PROMO_CODE_USED     PREVIOUS.PURCHASES \n",
              "           0.523050891                     NA            0.024836960 \n",
              "        PAYMENT.METHOD FREQUENCY.OF.PURCHASES \n",
              "           0.229484658            0.065897774 "
            ]
          },
          "metadata": {}
        },
        {
          "output_type": "display_data",
          "data": {
            "text/plain": [
              "\n",
              "Call:\n",
              "glm(formula = PURCHASE.AMOUNT ~ ., family = \"gaussian\", data = trainset)\n",
              "\n",
              "Coefficients: (1 not defined because of singularities)\n",
              "                        Estimate Std. Error t value Pr(>|t|)    \n",
              "(Intercept)            51.289394   3.337316  15.368   <2e-16 ***\n",
              "AGE                    -0.004485   0.028061  -0.160    0.873    \n",
              "GENDER                  0.654112   1.130930   0.578    0.563    \n",
              "ITEM.PURCHASED          0.078306   0.068249   1.147    0.251    \n",
              "CATEGORY               -0.429708   0.371184  -1.158    0.247    \n",
              "LOCATION                0.027995   0.029600   0.946    0.344    \n",
              "SIZE                    0.242658   0.425871   0.570    0.569    \n",
              "COLOR                  -0.014533   0.059145  -0.246    0.806    \n",
              "SEASON                  0.091406   0.382319   0.239    0.811    \n",
              "REVIEW.RATE             1.416518   0.598729   2.366    0.018 *  \n",
              "SUBSCRIPTIONS          -0.031872   1.343433  -0.024    0.981    \n",
              "SHIPPING.TYPE           0.004666   0.248994   0.019    0.985    \n",
              "DISCOUNT.APPLIED        0.523051   1.356057   0.386    0.700    \n",
              "PROMO_CODE_USED               NA         NA      NA       NA    \n",
              "PREVIOUS.PURCHASES      0.024837   0.029417   0.844    0.399    \n",
              "PAYMENT.METHOD          0.229485   0.252615   0.908    0.364    \n",
              "FREQUENCY.OF.PURCHASES  0.065898   0.213869   0.308    0.758    \n",
              "---\n",
              "Signif. codes:  0 ‘***’ 0.001 ‘**’ 0.01 ‘*’ 0.05 ‘.’ 0.1 ‘ ’ 1\n",
              "\n",
              "(Dispersion parameter for gaussian family taken to be 561.8817)\n",
              "\n",
              "    Null deviance: 1750836  on 3119  degrees of freedom\n",
              "Residual deviance: 1744081  on 3104  degrees of freedom\n",
              "AIC: 28626\n",
              "\n",
              "Number of Fisher Scoring iterations: 2\n"
            ]
          },
          "metadata": {}
        }
      ]
    },
    {
      "cell_type": "markdown",
      "source": [
        "# QUESTION 1 - C"
      ],
      "metadata": {
        "id": "sha_ggWC0uDC"
      }
    },
    {
      "cell_type": "markdown",
      "source": [
        "Question : Predict the output of the test dataset using the trained model. Provide the functional form of the optimal predictive model.\n",
        "\n",
        "Solution: ŷ = 51.289394 + 1.416518 * REVIEW.RATE\n",
        "*   ŷ is output which is PURCHASE.AMOUNT, and it will be predicted by using 51.289394 + 1.416518 * REVIEW.RATE linear model\n",
        "*   51.289394 is Intercept which means β0   \n",
        "*   1.416518 is important input estimated value which is β1\n",
        "\n",
        "ŷ values will change based on REVIEW.RATE which mean is if REVIEW.RATE value will increase ŷ will increase because of positive estimated value of REVIEW.RATE(+ 1.416518)."
      ],
      "metadata": {
        "id": "istTx_4-vzTb"
      }
    },
    {
      "cell_type": "code",
      "source": [
        "# predictive model pred.PURCHASE.AMOUNT y = 51.289394 + 1.416518 * REVIEW.RATE\n",
        "\n",
        "# we use just REVIEW RATE becuase it's p. value is lower than alpha = 0.05 which means it is significant value for PURCHASEA.AMONUT\n",
        "        ## which is our target or dependent"
      ],
      "metadata": {
        "id": "ftJBvaZqxcnw"
      },
      "execution_count": 12,
      "outputs": []
    },
    {
      "cell_type": "markdown",
      "source": [
        "# QUESTION 1 - D"
      ],
      "metadata": {
        "id": "6yjg534t1Fnh"
      }
    },
    {
      "cell_type": "markdown",
      "source": [
        "Question: Provide the confusion matrix and obtain the probability of correctness of predictions.\n",
        "\n",
        "Solution: After having solution of accuracy we will have accuracy result as \"0.00128205128205128\" which means our input variables do not explain target variable well. We need to use different input variables to explain our target varaible."
      ],
      "metadata": {
        "id": "m2MGDS4uyZ4Q"
      }
    },
    {
      "cell_type": "code",
      "source": [
        "# predict using the testset\n",
        "actual = testset$PURCHASE.AMOUNT\n",
        "confusion_matrix=table(pred,actual)\n",
        "head(confusion_matrix)\n",
        "\n",
        "accuracy <- sum(diag(confusion_matrix)) / sum(confusion_matrix)\n",
        "print(paste(\"Accuracy : \",accuracy))"
      ],
      "metadata": {
        "colab": {
          "base_uri": "https://localhost:8080/",
          "height": 728
        },
        "id": "DJ9fp9zB1IEQ",
        "outputId": "3a575fdd-8d09-4141-d894-4db3ea4f96cb"
      },
      "execution_count": 13,
      "outputs": [
        {
          "output_type": "display_data",
          "data": {
            "text/plain": [
              "                  actual\n",
              "pred               20 21 22 23 24 25 26 27 28 29 30 31 32 33 34 35 36 37 38 39\n",
              "  55.914792397374   1  0  0  0  0  0  0  0  0  0  0  0  0  0  0  0  0  0  0  0\n",
              "  56.0794831466412  0  0  0  0  0  0  0  0  0  0  0  0  0  0  0  0  0  0  0  0\n",
              "  56.1797996454242  0  0  0  0  0  0  0  0  0  0  0  0  0  0  0  0  0  0  0  0\n",
              "  56.2445866103897  0  0  0  0  0  0  0  0  0  0  0  0  0  0  0  0  0  0  0  0\n",
              "  56.3459435950608  0  0  0  0  0  0  0  0  0  0  0  0  0  0  0  0  0  0  0  0\n",
              "  56.4242368460454  0  0  0  0  0  0  0  0  0  0  0  0  0  0  0  0  0  0  0  0\n",
              "                  actual\n",
              "pred               40 41 42 43 44 45 46 47 48 49 50 51 52 53 54 55 56 57 58 59\n",
              "  55.914792397374   0  0  0  0  0  0  0  0  0  0  0  0  0  0  0  0  0  0  0  0\n",
              "  56.0794831466412  0  0  0  0  0  0  0  0  0  0  0  0  0  0  0  0  0  0  0  0\n",
              "  56.1797996454242  0  0  0  0  0  0  0  0  0  0  0  0  0  0  0  0  0  0  0  0\n",
              "  56.2445866103897  0  0  0  0  0  0  0  0  0  0  0  1  0  0  0  0  0  0  0  0\n",
              "  56.3459435950608  0  0  0  0  1  0  0  0  0  0  0  0  0  0  0  0  0  0  0  0\n",
              "  56.4242368460454  0  0  0  0  0  0  0  0  0  0  1  0  0  0  0  0  0  0  0  0\n",
              "                  actual\n",
              "pred               60 61 62 63 64 65 66 67 68 69 70 71 72 73 74 75 76 77 78 79\n",
              "  55.914792397374   0  0  0  0  0  0  0  0  0  0  0  0  0  0  0  0  0  0  0  0\n",
              "  56.0794831466412  0  0  0  0  0  0  0  0  0  0  0  0  0  0  0  1  0  0  0  0\n",
              "  56.1797996454242  0  0  0  0  0  0  0  0  0  0  0  0  0  0  0  0  0  0  0  0\n",
              "  56.2445866103897  0  0  0  0  0  0  0  0  0  0  0  0  0  0  0  0  0  0  0  0\n",
              "  56.3459435950608  0  0  0  0  0  0  0  0  0  0  0  0  0  0  0  0  0  0  0  0\n",
              "  56.4242368460454  0  0  0  0  0  0  0  0  0  0  0  0  0  0  0  0  0  0  0  0\n",
              "                  actual\n",
              "pred               80 81 82 83 84 85 86 87 88 89 90 91 92 93 94 95 96 97 98 99\n",
              "  55.914792397374   0  0  0  0  0  0  0  0  0  0  0  0  0  0  0  0  0  0  0  0\n",
              "  56.0794831466412  0  0  0  0  0  0  0  0  0  0  0  0  0  0  0  0  0  0  0  0\n",
              "  56.1797996454242  0  0  0  0  0  0  0  0  0  0  0  0  0  0  0  0  0  0  0  0\n",
              "  56.2445866103897  0  0  0  0  0  0  0  0  0  0  0  0  0  0  0  0  0  0  0  0\n",
              "  56.3459435950608  0  0  0  0  0  0  0  0  0  0  0  0  0  0  0  0  0  0  0  0\n",
              "  56.4242368460454  0  0  0  0  0  0  0  0  0  0  0  0  0  0  0  0  0  0  0  0\n",
              "                  actual\n",
              "pred               100\n",
              "  55.914792397374    0\n",
              "  56.0794831466412   0\n",
              "  56.1797996454242   1\n",
              "  56.2445866103897   0\n",
              "  56.3459435950608   0\n",
              "  56.4242368460454   0"
            ]
          },
          "metadata": {}
        },
        {
          "output_type": "stream",
          "name": "stdout",
          "text": [
            "[1] \"Accuracy :  0.00128205128205128\"\n"
          ]
        }
      ]
    },
    {
      "cell_type": "markdown",
      "source": [
        "# QUESTION 2 is PDF format it will be in zip folder"
      ],
      "metadata": {
        "id": "1s9EvkZfaGkA"
      }
    },
    {
      "cell_type": "markdown",
      "source": [
        "# QUESTION 3"
      ],
      "metadata": {
        "id": "CPrcTUmpxd4T"
      }
    },
    {
      "cell_type": "code",
      "source": [
        "df_stock <- read.csv(\"ADANIPORTS.csv\")\n",
        "head(df_stock)"
      ],
      "metadata": {
        "colab": {
          "base_uri": "https://localhost:8080/",
          "height": 410
        },
        "id": "M4pOMMTJxc1s",
        "outputId": "7e74a49b-42f2-48df-a633-d18040e915c9"
      },
      "execution_count": 14,
      "outputs": [
        {
          "output_type": "display_data",
          "data": {
            "text/html": [
              "<table class=\"dataframe\">\n",
              "<caption>A data.frame: 6 × 15</caption>\n",
              "<thead>\n",
              "\t<tr><th></th><th scope=col>Date</th><th scope=col>Symbol</th><th scope=col>Series</th><th scope=col>Prev.Close</th><th scope=col>Open</th><th scope=col>High</th><th scope=col>Low</th><th scope=col>Last</th><th scope=col>Close</th><th scope=col>VWAP</th><th scope=col>Volume</th><th scope=col>Turnover</th><th scope=col>Trades</th><th scope=col>Deliverable.Volume</th><th scope=col>X.Deliverble</th></tr>\n",
              "\t<tr><th></th><th scope=col>&lt;chr&gt;</th><th scope=col>&lt;chr&gt;</th><th scope=col>&lt;chr&gt;</th><th scope=col>&lt;dbl&gt;</th><th scope=col>&lt;dbl&gt;</th><th scope=col>&lt;dbl&gt;</th><th scope=col>&lt;dbl&gt;</th><th scope=col>&lt;dbl&gt;</th><th scope=col>&lt;dbl&gt;</th><th scope=col>&lt;dbl&gt;</th><th scope=col>&lt;int&gt;</th><th scope=col>&lt;dbl&gt;</th><th scope=col>&lt;dbl&gt;</th><th scope=col>&lt;int&gt;</th><th scope=col>&lt;dbl&gt;</th></tr>\n",
              "</thead>\n",
              "<tbody>\n",
              "\t<tr><th scope=row>1</th><td>2007-11-27</td><td>MUNDRAPORT</td><td>EQ</td><td>440.00</td><td>770.00</td><td>1050.00</td><td>770</td><td> 959</td><td> 962.90</td><td> 984.72</td><td>27294366</td><td>2.687719e+15</td><td>NA</td><td>9859619</td><td>0.3612</td></tr>\n",
              "\t<tr><th scope=row>2</th><td>2007-11-28</td><td>MUNDRAPORT</td><td>EQ</td><td>962.90</td><td>984.00</td><td> 990.00</td><td>874</td><td> 885</td><td> 893.90</td><td> 941.38</td><td> 4581338</td><td>4.312765e+14</td><td>NA</td><td>1453278</td><td>0.3172</td></tr>\n",
              "\t<tr><th scope=row>3</th><td>2007-11-29</td><td>MUNDRAPORT</td><td>EQ</td><td>893.90</td><td>909.00</td><td> 914.75</td><td>841</td><td> 887</td><td> 884.20</td><td> 888.09</td><td> 5124121</td><td>4.550658e+14</td><td>NA</td><td>1069678</td><td>0.2088</td></tr>\n",
              "\t<tr><th scope=row>4</th><td>2007-11-30</td><td>MUNDRAPORT</td><td>EQ</td><td>884.20</td><td>890.00</td><td> 958.00</td><td>890</td><td> 929</td><td> 921.55</td><td> 929.17</td><td> 4609762</td><td>4.283257e+14</td><td>NA</td><td>1260913</td><td>0.2735</td></tr>\n",
              "\t<tr><th scope=row>5</th><td>2007-12-03</td><td>MUNDRAPORT</td><td>EQ</td><td>921.55</td><td>939.75</td><td> 995.00</td><td>922</td><td> 980</td><td> 969.30</td><td> 965.65</td><td> 2977470</td><td>2.875200e+14</td><td>NA</td><td> 816123</td><td>0.2741</td></tr>\n",
              "\t<tr><th scope=row>6</th><td>2007-12-04</td><td>MUNDRAPORT</td><td>EQ</td><td>969.30</td><td>985.00</td><td>1056.00</td><td>976</td><td>1049</td><td>1041.45</td><td>1015.39</td><td> 4849250</td><td>4.923867e+14</td><td>NA</td><td>1537667</td><td>0.3171</td></tr>\n",
              "</tbody>\n",
              "</table>\n"
            ],
            "text/markdown": "\nA data.frame: 6 × 15\n\n| <!--/--> | Date &lt;chr&gt; | Symbol &lt;chr&gt; | Series &lt;chr&gt; | Prev.Close &lt;dbl&gt; | Open &lt;dbl&gt; | High &lt;dbl&gt; | Low &lt;dbl&gt; | Last &lt;dbl&gt; | Close &lt;dbl&gt; | VWAP &lt;dbl&gt; | Volume &lt;int&gt; | Turnover &lt;dbl&gt; | Trades &lt;dbl&gt; | Deliverable.Volume &lt;int&gt; | X.Deliverble &lt;dbl&gt; |\n|---|---|---|---|---|---|---|---|---|---|---|---|---|---|---|---|\n| 1 | 2007-11-27 | MUNDRAPORT | EQ | 440.00 | 770.00 | 1050.00 | 770 |  959 |  962.90 |  984.72 | 27294366 | 2.687719e+15 | NA | 9859619 | 0.3612 |\n| 2 | 2007-11-28 | MUNDRAPORT | EQ | 962.90 | 984.00 |  990.00 | 874 |  885 |  893.90 |  941.38 |  4581338 | 4.312765e+14 | NA | 1453278 | 0.3172 |\n| 3 | 2007-11-29 | MUNDRAPORT | EQ | 893.90 | 909.00 |  914.75 | 841 |  887 |  884.20 |  888.09 |  5124121 | 4.550658e+14 | NA | 1069678 | 0.2088 |\n| 4 | 2007-11-30 | MUNDRAPORT | EQ | 884.20 | 890.00 |  958.00 | 890 |  929 |  921.55 |  929.17 |  4609762 | 4.283257e+14 | NA | 1260913 | 0.2735 |\n| 5 | 2007-12-03 | MUNDRAPORT | EQ | 921.55 | 939.75 |  995.00 | 922 |  980 |  969.30 |  965.65 |  2977470 | 2.875200e+14 | NA |  816123 | 0.2741 |\n| 6 | 2007-12-04 | MUNDRAPORT | EQ | 969.30 | 985.00 | 1056.00 | 976 | 1049 | 1041.45 | 1015.39 |  4849250 | 4.923867e+14 | NA | 1537667 | 0.3171 |\n\n",
            "text/latex": "A data.frame: 6 × 15\n\\begin{tabular}{r|lllllllllllllll}\n  & Date & Symbol & Series & Prev.Close & Open & High & Low & Last & Close & VWAP & Volume & Turnover & Trades & Deliverable.Volume & X.Deliverble\\\\\n  & <chr> & <chr> & <chr> & <dbl> & <dbl> & <dbl> & <dbl> & <dbl> & <dbl> & <dbl> & <int> & <dbl> & <dbl> & <int> & <dbl>\\\\\n\\hline\n\t1 & 2007-11-27 & MUNDRAPORT & EQ & 440.00 & 770.00 & 1050.00 & 770 &  959 &  962.90 &  984.72 & 27294366 & 2.687719e+15 & NA & 9859619 & 0.3612\\\\\n\t2 & 2007-11-28 & MUNDRAPORT & EQ & 962.90 & 984.00 &  990.00 & 874 &  885 &  893.90 &  941.38 &  4581338 & 4.312765e+14 & NA & 1453278 & 0.3172\\\\\n\t3 & 2007-11-29 & MUNDRAPORT & EQ & 893.90 & 909.00 &  914.75 & 841 &  887 &  884.20 &  888.09 &  5124121 & 4.550658e+14 & NA & 1069678 & 0.2088\\\\\n\t4 & 2007-11-30 & MUNDRAPORT & EQ & 884.20 & 890.00 &  958.00 & 890 &  929 &  921.55 &  929.17 &  4609762 & 4.283257e+14 & NA & 1260913 & 0.2735\\\\\n\t5 & 2007-12-03 & MUNDRAPORT & EQ & 921.55 & 939.75 &  995.00 & 922 &  980 &  969.30 &  965.65 &  2977470 & 2.875200e+14 & NA &  816123 & 0.2741\\\\\n\t6 & 2007-12-04 & MUNDRAPORT & EQ & 969.30 & 985.00 & 1056.00 & 976 & 1049 & 1041.45 & 1015.39 &  4849250 & 4.923867e+14 & NA & 1537667 & 0.3171\\\\\n\\end{tabular}\n",
            "text/plain": [
              "  Date       Symbol     Series Prev.Close Open   High    Low Last Close  \n",
              "1 2007-11-27 MUNDRAPORT EQ     440.00     770.00 1050.00 770  959  962.90\n",
              "2 2007-11-28 MUNDRAPORT EQ     962.90     984.00  990.00 874  885  893.90\n",
              "3 2007-11-29 MUNDRAPORT EQ     893.90     909.00  914.75 841  887  884.20\n",
              "4 2007-11-30 MUNDRAPORT EQ     884.20     890.00  958.00 890  929  921.55\n",
              "5 2007-12-03 MUNDRAPORT EQ     921.55     939.75  995.00 922  980  969.30\n",
              "6 2007-12-04 MUNDRAPORT EQ     969.30     985.00 1056.00 976 1049 1041.45\n",
              "  VWAP    Volume   Turnover     Trades Deliverable.Volume X.Deliverble\n",
              "1  984.72 27294366 2.687719e+15 NA     9859619            0.3612      \n",
              "2  941.38  4581338 4.312765e+14 NA     1453278            0.3172      \n",
              "3  888.09  5124121 4.550658e+14 NA     1069678            0.2088      \n",
              "4  929.17  4609762 4.283257e+14 NA     1260913            0.2735      \n",
              "5  965.65  2977470 2.875200e+14 NA      816123            0.2741      \n",
              "6 1015.39  4849250 4.923867e+14 NA     1537667            0.3171      "
            ]
          },
          "metadata": {}
        }
      ]
    },
    {
      "cell_type": "code",
      "source": [
        "install.packages(\"tseries\")\n",
        "install.packages(\"forecast\")"
      ],
      "metadata": {
        "colab": {
          "base_uri": "https://localhost:8080/"
        },
        "id": "-Nr0azOFzLj1",
        "outputId": "b3addb0e-8077-459b-8f53-06839b159849"
      },
      "execution_count": null,
      "outputs": [
        {
          "output_type": "stream",
          "name": "stderr",
          "text": [
            "Installing package into ‘/usr/local/lib/R/site-library’\n",
            "(as ‘lib’ is unspecified)\n",
            "\n",
            "also installing the dependencies ‘xts’, ‘TTR’, ‘quadprog’, ‘zoo’, ‘quantmod’\n",
            "\n",
            "\n",
            "Installing package into ‘/usr/local/lib/R/site-library’\n",
            "(as ‘lib’ is unspecified)\n",
            "\n",
            "also installing the dependencies ‘fracdiff’, ‘lmtest’, ‘Rcpp’, ‘timeDate’, ‘urca’, ‘RcppArmadillo’\n",
            "\n",
            "\n"
          ]
        }
      ]
    },
    {
      "cell_type": "code",
      "source": [
        "library(forecast)\n",
        "library(tseries)"
      ],
      "metadata": {
        "id": "w22n_N32zt17"
      },
      "execution_count": null,
      "outputs": []
    },
    {
      "cell_type": "markdown",
      "source": [
        "# QUESTION 3"
      ],
      "metadata": {
        "id": "PQXUuuR_LIOm"
      }
    },
    {
      "cell_type": "code",
      "source": [
        "df_stock_prev_close <- df_stock$Prev.Close\n",
        "df_stock_open <- df_stock$Open\n",
        "# Create time series object\n",
        "ts_stock_open <- ts(df_stock_open, frequency = 1)\n",
        "# Plot time series\n",
        "plot(ts_stock_open, main = \"Time Series Plot - Open Prices\", xlab = \"Time\", ylab = \"Open Prices\")\n",
        "# Print the time series\n",
        "print(ts_stock_open)\n",
        "# Check the class\n",
        "class(ts_stock_open)"
      ],
      "metadata": {
        "id": "v4wZqSZ9_az-"
      },
      "execution_count": null,
      "outputs": []
    },
    {
      "cell_type": "markdown",
      "source": [
        "# QUESTION 3-A"
      ],
      "metadata": {
        "id": "_Veg9Aag9pkp"
      }
    },
    {
      "cell_type": "markdown",
      "source": [
        "Question: Check whether the time series is stationary in mean and variance.\n",
        "\n",
        "Solution: To check wheter the time series is stationary in mean and variance, Dickey-Fuller test is used to assess whether a time series is stationary by examining the presence of a unit root, which is related to changes in mean and variance over time. If the test suggests the absence of a unit root, it implies that the time series is stationary in both mean and variance. We can see with the our p value result is lower than our significance level(𝛼)=0.05, so we can say our mean and variance for the time series are stationary."
      ],
      "metadata": {
        "id": "AqhM_ObjKcLu"
      }
    },
    {
      "cell_type": "code",
      "source": [
        "adf.test(ts_stock_open, alternative = \"stationary\") #Dickey-Fuller Test\n",
        "\n",
        "stationary_mean = diff(ts_stock_open)\n",
        "plot(stationary_mean)\n",
        "\n",
        "stationary_variance = log(ts_stock_open)\n",
        "diff_stationary_variance = diff(stationary_variance)\n",
        "plot(diff_stationary_variance)"
      ],
      "metadata": {
        "id": "z0mVkH-pLPOL"
      },
      "execution_count": null,
      "outputs": []
    },
    {
      "cell_type": "markdown",
      "source": [
        "# QUESTION 3-B"
      ],
      "metadata": {
        "id": "jWWER2HzMgGi"
      }
    },
    {
      "cell_type": "markdown",
      "source": [
        "Question: Use acf() and pacf() functions to identify the order of AR and MA\n",
        "\n",
        "Solution: The AR component refers to the autoregressive part of the model. It involves regressing the current value of the time series against its previous values. The MA component refers to the moving average part of the model. It involves modeling the error term as a linear combination of past error terms, acf() is used to compute for AR, and pacf() is used to compute for MA. When we move away from lag 0 and examine autocorrelations at larger lags, the height of the ACF bars indicates the strength of the correlation between the time series values at the given lag, the ACF at lag 0 is always 1 because any time series is perfectly correlated with itself at the same time point. MA(1) means that the current value of the time series is influenced by the most recent past white noise term, and only that term. The \"1\" in MA(1) indicates the number of lags of the white noise term that are included in the model."
      ],
      "metadata": {
        "id": "hMmnFQyAPXth"
      }
    },
    {
      "cell_type": "code",
      "source": [
        "acf( ts_stock_open , lag.max=50)\n",
        "pacf( ts_stock_open , lag.max=50)"
      ],
      "metadata": {
        "id": "EFvTGGhlMjkF"
      },
      "execution_count": null,
      "outputs": []
    },
    {
      "cell_type": "markdown",
      "source": [
        "# QUESTION 3-C"
      ],
      "metadata": {
        "id": "gndQvUO2M9u9"
      }
    },
    {
      "cell_type": "markdown",
      "source": [
        "Question: Use auto.arima() to learn the best ARIMA model.\n",
        "\n",
        "Solution: The notation ARIMA(p, d, q) is used to describe a specific model.\n",
        "*   p (order of AutoRegressive component): This represents the number of autoregressive (AR) terms in the model. AR terms are lagged values of the time series.\n",
        "*   d (degree of differencing): This is the number of times the raw observations are differenced. Differencing is a method used to make the time series stationary. If d is 1, it means the series is differenced once.\n",
        "*   q (order of Moving Average component): This represents the number of moving average (MA) terms in the model. MA terms are lagged forecast errors in prediction equations.\n",
        "\n",
        "*   AR(2): It includes two autoregressive terms.\n",
        "*   I(1): It includes one differencing to make the series stationary.\n",
        "*   MA(2): It includes two moving average terms."
      ],
      "metadata": {
        "id": "6-tBCDUOcJbQ"
      }
    },
    {
      "cell_type": "code",
      "source": [
        "auto.fit<-auto.arima(ts_stock_open, seasonal=F)  # automatic way to find the optimized model\n",
        "tsdisplay(residuals(auto.fit), lag.max=45)\n",
        "summary(auto.fit)"
      ],
      "metadata": {
        "id": "2B82jMbPM9Q8"
      },
      "execution_count": null,
      "outputs": []
    },
    {
      "cell_type": "markdown",
      "source": [
        "# QUESTION 3-D"
      ],
      "metadata": {
        "id": "mCMMIWNsHo8W"
      }
    },
    {
      "cell_type": "markdown",
      "source": [
        "Question: Forecast h=10 step ahead prediction of the time series variable and plot it with the original time series."
      ],
      "metadata": {
        "id": "qiFEmKu6nMT7"
      }
    },
    {
      "cell_type": "code",
      "source": [
        "auto.fcast <- forecast(auto.fit, h=10)\n",
        "plot(auto.fcast)"
      ],
      "metadata": {
        "id": "GFr5aqgwHopD"
      },
      "execution_count": null,
      "outputs": []
    }
  ]
}